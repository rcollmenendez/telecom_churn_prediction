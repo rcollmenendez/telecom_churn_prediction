{
  "nbformat": 4,
  "nbformat_minor": 0,
  "metadata": {
    "colab": {
      "name": "Telcom Churn Prediction_RCM.ipynb",
      "provenance": [],
      "collapsed_sections": [
        "39NTdv3PGMTI",
        "znTys2qenJKz"
      ],
      "toc_visible": true,
      "authorship_tag": "ABX9TyOQqQz9MQ+RxghIfLNQFSJo",
      "include_colab_link": true
    },
    "kernelspec": {
      "name": "python3",
      "display_name": "Python 3"
    },
    "language_info": {
      "name": "python"
    }
  },
  "cells": [
    {
      "cell_type": "markdown",
      "metadata": {
        "id": "view-in-github",
        "colab_type": "text"
      },
      "source": [
        "<a href=\"https://colab.research.google.com/github/rcollmenendez/telecom_churn_prediction/blob/main/Telcom_Churn_Prediction_RCM.ipynb\" target=\"_parent\"><img src=\"https://colab.research.google.com/assets/colab-badge.svg\" alt=\"Open In Colab\"/></a>"
      ]
    },
    {
      "cell_type": "markdown",
      "metadata": {
        "id": "dGnS328bi74P"
      },
      "source": [
        "# Customer churn prediction"
      ]
    },
    {
      "cell_type": "markdown",
      "metadata": {
        "id": "TKHfHKd8iITA"
      },
      "source": [
        "### Dataset:\n",
        "\n",
        "- customerID - customer id\n",
        "\n",
        "- gender - client gender (male / female)\n",
        "\n",
        "- SeniorCitizen - is the client retired (1, 0)\n",
        "\n",
        "- Partner - is the client married (Yes, No)\n",
        "\n",
        "- tenure - how many months a person has been a client of the company\n",
        "\n",
        "- PhoneService - is the telephone service connected (Yes, No)\n",
        "\n",
        "- MultipleLines - are multiple phone lines connected (Yes, No, No phone service)\n",
        "\n",
        "- InternetService - client’s Internet service provider (DSL, Fiber optic, No)\n",
        "\n",
        "- OnlineSecurity - is the online security service connected (Yes, No, No internet service)\n",
        "\n",
        "- OnlineBackup - is the online backup service activated (Yes, No, No internet service)\n",
        "\n",
        "- DeviceProtection - does the client have equipment insurance (Yes, No, No internet service)\n",
        "\n",
        "- TechSupport - is the technical support service connected (Yes, No, No internet service)\n",
        "\n",
        "- StreamingTV - is the streaming TV service connected (Yes, No, No internet service)\n",
        "\n",
        "- StreamingMovies - is the streaming cinema service activated (Yes, No, No internet service)\n",
        "\n",
        "- Contract - type of customer contract (Month-to-month, One year, Two year)\n",
        "\n",
        "- PaperlessBilling - whether the client uses paperless billing (Yes, No)\n",
        "\n",
        "- PaymentMethod - payment method (Electronic check, Mailed check, Bank transfer (automatic), Credit card (automatic))\n",
        "\n",
        "- MonthlyCharges - current monthly payment\n",
        "\n",
        "- TotalCharges - the total amount that the client paid for the services for the entire time\n",
        "\n",
        "- Churn - whether there was a churn (Yes or No)"
      ]
    },
    {
      "cell_type": "code",
      "metadata": {
        "id": "g7EH8mWTjhsf"
      },
      "source": [
        "import pandas as pd\n",
        "import numpy as np\n",
        "import matplotlib.pyplot as plt\n",
        "import seaborn as sns\n",
        "\n",
        "from sklearn.preprocessing import StandardScaler, OneHotEncoder\n",
        "from sklearn.pipeline import Pipeline\n",
        "from sklearn.model_selection import train_test_split\n",
        "from sklearn.compose import ColumnTransformer\n",
        "from sklearn.impute import KNNImputer\n",
        "from sklearn.model_selection import cross_val_score\n",
        "\n",
        "from sklearn.metrics import classification_report, recall_score, confusion_matrix, precision_score, f1_score\n",
        "\n",
        "# Load models\n",
        "from sklearn.linear_model import LogisticRegression\n",
        "from sklearn.neighbors import KNeighborsClassifier\n",
        "from sklearn.naive_bayes import BernoulliNB\n",
        "from sklearn.svm import LinearSVC\n",
        "\n",
        "from sklearn.tree import DecisionTreeClassifier\n",
        "from sklearn.ensemble import RandomForestClassifier\n",
        "from sklearn.ensemble import AdaBoostClassifier\n",
        "from sklearn.ensemble import GradientBoostingClassifier\n",
        "from xgboost import XGBClassifier"
      ],
      "execution_count": null,
      "outputs": []
    },
    {
      "cell_type": "markdown",
      "metadata": {
        "id": "HLyK5MrLjCJ3"
      },
      "source": [
        "### Load data"
      ]
    },
    {
      "cell_type": "code",
      "metadata": {
        "colab": {
          "base_uri": "https://localhost:8080/",
          "height": 305
        },
        "id": "JGhr8CBchvIY",
        "outputId": "bec1f610-9cde-46ff-8ee6-c5d32ab65505"
      },
      "source": [
        "file_path = \"/content/\"\n",
        "file_name = \"telecom_users.csv\"\n",
        "\n",
        "telecom_df = pd.read_csv(file_path + file_name, index_col=0)\n",
        "telecom_df.head()"
      ],
      "execution_count": null,
      "outputs": [
        {
          "output_type": "execute_result",
          "data": {
            "text/html": [
              "<div>\n",
              "<style scoped>\n",
              "    .dataframe tbody tr th:only-of-type {\n",
              "        vertical-align: middle;\n",
              "    }\n",
              "\n",
              "    .dataframe tbody tr th {\n",
              "        vertical-align: top;\n",
              "    }\n",
              "\n",
              "    .dataframe thead th {\n",
              "        text-align: right;\n",
              "    }\n",
              "</style>\n",
              "<table border=\"1\" class=\"dataframe\">\n",
              "  <thead>\n",
              "    <tr style=\"text-align: right;\">\n",
              "      <th></th>\n",
              "      <th>customerID</th>\n",
              "      <th>gender</th>\n",
              "      <th>SeniorCitizen</th>\n",
              "      <th>Partner</th>\n",
              "      <th>Dependents</th>\n",
              "      <th>tenure</th>\n",
              "      <th>PhoneService</th>\n",
              "      <th>MultipleLines</th>\n",
              "      <th>InternetService</th>\n",
              "      <th>OnlineSecurity</th>\n",
              "      <th>OnlineBackup</th>\n",
              "      <th>DeviceProtection</th>\n",
              "      <th>TechSupport</th>\n",
              "      <th>StreamingTV</th>\n",
              "      <th>StreamingMovies</th>\n",
              "      <th>Contract</th>\n",
              "      <th>PaperlessBilling</th>\n",
              "      <th>PaymentMethod</th>\n",
              "      <th>MonthlyCharges</th>\n",
              "      <th>TotalCharges</th>\n",
              "      <th>Churn</th>\n",
              "    </tr>\n",
              "  </thead>\n",
              "  <tbody>\n",
              "    <tr>\n",
              "      <th>1869</th>\n",
              "      <td>7010-BRBUU</td>\n",
              "      <td>Male</td>\n",
              "      <td>0</td>\n",
              "      <td>Yes</td>\n",
              "      <td>Yes</td>\n",
              "      <td>72</td>\n",
              "      <td>Yes</td>\n",
              "      <td>Yes</td>\n",
              "      <td>No</td>\n",
              "      <td>No internet service</td>\n",
              "      <td>No internet service</td>\n",
              "      <td>No internet service</td>\n",
              "      <td>No internet service</td>\n",
              "      <td>No internet service</td>\n",
              "      <td>No internet service</td>\n",
              "      <td>Two year</td>\n",
              "      <td>No</td>\n",
              "      <td>Credit card (automatic)</td>\n",
              "      <td>24.10</td>\n",
              "      <td>1734.65</td>\n",
              "      <td>No</td>\n",
              "    </tr>\n",
              "    <tr>\n",
              "      <th>4528</th>\n",
              "      <td>9688-YGXVR</td>\n",
              "      <td>Female</td>\n",
              "      <td>0</td>\n",
              "      <td>No</td>\n",
              "      <td>No</td>\n",
              "      <td>44</td>\n",
              "      <td>Yes</td>\n",
              "      <td>No</td>\n",
              "      <td>Fiber optic</td>\n",
              "      <td>No</td>\n",
              "      <td>Yes</td>\n",
              "      <td>Yes</td>\n",
              "      <td>No</td>\n",
              "      <td>Yes</td>\n",
              "      <td>No</td>\n",
              "      <td>Month-to-month</td>\n",
              "      <td>Yes</td>\n",
              "      <td>Credit card (automatic)</td>\n",
              "      <td>88.15</td>\n",
              "      <td>3973.2</td>\n",
              "      <td>No</td>\n",
              "    </tr>\n",
              "    <tr>\n",
              "      <th>6344</th>\n",
              "      <td>9286-DOJGF</td>\n",
              "      <td>Female</td>\n",
              "      <td>1</td>\n",
              "      <td>Yes</td>\n",
              "      <td>No</td>\n",
              "      <td>38</td>\n",
              "      <td>Yes</td>\n",
              "      <td>Yes</td>\n",
              "      <td>Fiber optic</td>\n",
              "      <td>No</td>\n",
              "      <td>No</td>\n",
              "      <td>No</td>\n",
              "      <td>No</td>\n",
              "      <td>No</td>\n",
              "      <td>No</td>\n",
              "      <td>Month-to-month</td>\n",
              "      <td>Yes</td>\n",
              "      <td>Bank transfer (automatic)</td>\n",
              "      <td>74.95</td>\n",
              "      <td>2869.85</td>\n",
              "      <td>Yes</td>\n",
              "    </tr>\n",
              "    <tr>\n",
              "      <th>6739</th>\n",
              "      <td>6994-KERXL</td>\n",
              "      <td>Male</td>\n",
              "      <td>0</td>\n",
              "      <td>No</td>\n",
              "      <td>No</td>\n",
              "      <td>4</td>\n",
              "      <td>Yes</td>\n",
              "      <td>No</td>\n",
              "      <td>DSL</td>\n",
              "      <td>No</td>\n",
              "      <td>No</td>\n",
              "      <td>No</td>\n",
              "      <td>No</td>\n",
              "      <td>No</td>\n",
              "      <td>Yes</td>\n",
              "      <td>Month-to-month</td>\n",
              "      <td>Yes</td>\n",
              "      <td>Electronic check</td>\n",
              "      <td>55.90</td>\n",
              "      <td>238.5</td>\n",
              "      <td>No</td>\n",
              "    </tr>\n",
              "    <tr>\n",
              "      <th>432</th>\n",
              "      <td>2181-UAESM</td>\n",
              "      <td>Male</td>\n",
              "      <td>0</td>\n",
              "      <td>No</td>\n",
              "      <td>No</td>\n",
              "      <td>2</td>\n",
              "      <td>Yes</td>\n",
              "      <td>No</td>\n",
              "      <td>DSL</td>\n",
              "      <td>Yes</td>\n",
              "      <td>No</td>\n",
              "      <td>Yes</td>\n",
              "      <td>No</td>\n",
              "      <td>No</td>\n",
              "      <td>No</td>\n",
              "      <td>Month-to-month</td>\n",
              "      <td>No</td>\n",
              "      <td>Electronic check</td>\n",
              "      <td>53.45</td>\n",
              "      <td>119.5</td>\n",
              "      <td>No</td>\n",
              "    </tr>\n",
              "  </tbody>\n",
              "</table>\n",
              "</div>"
            ],
            "text/plain": [
              "      customerID  gender  SeniorCitizen  ... MonthlyCharges TotalCharges  Churn\n",
              "1869  7010-BRBUU    Male              0  ...          24.10      1734.65     No\n",
              "4528  9688-YGXVR  Female              0  ...          88.15       3973.2     No\n",
              "6344  9286-DOJGF  Female              1  ...          74.95      2869.85    Yes\n",
              "6739  6994-KERXL    Male              0  ...          55.90        238.5     No\n",
              "432   2181-UAESM    Male              0  ...          53.45        119.5     No\n",
              "\n",
              "[5 rows x 21 columns]"
            ]
          },
          "metadata": {},
          "execution_count": 593
        }
      ]
    },
    {
      "cell_type": "markdown",
      "metadata": {
        "id": "6kXrqLL2ow6o"
      },
      "source": [
        "### Data exploration"
      ]
    },
    {
      "cell_type": "code",
      "metadata": {
        "colab": {
          "base_uri": "https://localhost:8080/"
        },
        "id": "Wch7OSF0jvit",
        "outputId": "49f35ffb-2f14-4118-d2a6-5386f8a84a24"
      },
      "source": [
        "# Check data types\n",
        "print(telecom_df.shape)\n",
        "telecom_df.info()"
      ],
      "execution_count": null,
      "outputs": [
        {
          "output_type": "stream",
          "name": "stdout",
          "text": [
            "(5986, 21)\n",
            "<class 'pandas.core.frame.DataFrame'>\n",
            "Int64Index: 5986 entries, 1869 to 860\n",
            "Data columns (total 21 columns):\n",
            " #   Column            Non-Null Count  Dtype  \n",
            "---  ------            --------------  -----  \n",
            " 0   customerID        5986 non-null   object \n",
            " 1   gender            5986 non-null   object \n",
            " 2   SeniorCitizen     5986 non-null   int64  \n",
            " 3   Partner           5986 non-null   object \n",
            " 4   Dependents        5986 non-null   object \n",
            " 5   tenure            5986 non-null   int64  \n",
            " 6   PhoneService      5986 non-null   object \n",
            " 7   MultipleLines     5986 non-null   object \n",
            " 8   InternetService   5986 non-null   object \n",
            " 9   OnlineSecurity    5986 non-null   object \n",
            " 10  OnlineBackup      5986 non-null   object \n",
            " 11  DeviceProtection  5986 non-null   object \n",
            " 12  TechSupport       5986 non-null   object \n",
            " 13  StreamingTV       5986 non-null   object \n",
            " 14  StreamingMovies   5986 non-null   object \n",
            " 15  Contract          5986 non-null   object \n",
            " 16  PaperlessBilling  5986 non-null   object \n",
            " 17  PaymentMethod     5986 non-null   object \n",
            " 18  MonthlyCharges    5986 non-null   float64\n",
            " 19  TotalCharges      5986 non-null   object \n",
            " 20  Churn             5986 non-null   object \n",
            "dtypes: float64(1), int64(2), object(18)\n",
            "memory usage: 1.0+ MB\n"
          ]
        }
      ]
    },
    {
      "cell_type": "code",
      "metadata": {
        "id": "aQua4UwYqnt8"
      },
      "source": [
        "# Copy df\n",
        "clean_df = telecom_df.copy()"
      ],
      "execution_count": null,
      "outputs": []
    },
    {
      "cell_type": "code",
      "metadata": {
        "id": "A3_bXtVgR9Pp"
      },
      "source": [
        "# Remove customerID columns\n",
        "clean_df = clean_df.drop(columns=\"customerID\")"
      ],
      "execution_count": null,
      "outputs": []
    },
    {
      "cell_type": "code",
      "metadata": {
        "id": "BuuwyoPiwOwQ"
      },
      "source": [
        "# Replace spaces with nan in the TotalCarges column\n",
        "clean_df[\"TotalCharges\"] = clean_df[\"TotalCharges\"].replace(r' ', np.nan, regex=True)\n",
        "clean_df[\"TotalCharges\"] = clean_df[\"TotalCharges\"].astype(\"float\")"
      ],
      "execution_count": null,
      "outputs": []
    },
    {
      "cell_type": "code",
      "metadata": {
        "colab": {
          "base_uri": "https://localhost:8080/"
        },
        "id": "aLNL6iGQwsjA",
        "outputId": "81d87dec-0908-4374-a29f-089c45a38ece"
      },
      "source": [
        "# Check data types\n",
        "clean_df.info()"
      ],
      "execution_count": null,
      "outputs": [
        {
          "output_type": "stream",
          "name": "stdout",
          "text": [
            "<class 'pandas.core.frame.DataFrame'>\n",
            "Int64Index: 5986 entries, 1869 to 860\n",
            "Data columns (total 20 columns):\n",
            " #   Column            Non-Null Count  Dtype  \n",
            "---  ------            --------------  -----  \n",
            " 0   gender            5986 non-null   object \n",
            " 1   SeniorCitizen     5986 non-null   int64  \n",
            " 2   Partner           5986 non-null   object \n",
            " 3   Dependents        5986 non-null   object \n",
            " 4   tenure            5986 non-null   int64  \n",
            " 5   PhoneService      5986 non-null   object \n",
            " 6   MultipleLines     5986 non-null   object \n",
            " 7   InternetService   5986 non-null   object \n",
            " 8   OnlineSecurity    5986 non-null   object \n",
            " 9   OnlineBackup      5986 non-null   object \n",
            " 10  DeviceProtection  5986 non-null   object \n",
            " 11  TechSupport       5986 non-null   object \n",
            " 12  StreamingTV       5986 non-null   object \n",
            " 13  StreamingMovies   5986 non-null   object \n",
            " 14  Contract          5986 non-null   object \n",
            " 15  PaperlessBilling  5986 non-null   object \n",
            " 16  PaymentMethod     5986 non-null   object \n",
            " 17  MonthlyCharges    5986 non-null   float64\n",
            " 18  TotalCharges      5976 non-null   float64\n",
            " 19  Churn             5986 non-null   object \n",
            "dtypes: float64(2), int64(2), object(16)\n",
            "memory usage: 982.1+ KB\n"
          ]
        }
      ]
    },
    {
      "cell_type": "code",
      "metadata": {
        "colab": {
          "base_uri": "https://localhost:8080/"
        },
        "id": "_lndreRtj-H8",
        "outputId": "01cd3f4d-6c3e-47cb-9543-36fc651d607e"
      },
      "source": [
        "# Check nulls\n",
        "print(pd.DataFrame(clean_df.isna().sum(), columns=[\"nulls\"]))"
      ],
      "execution_count": null,
      "outputs": [
        {
          "output_type": "stream",
          "name": "stdout",
          "text": [
            "                  nulls\n",
            "gender                0\n",
            "SeniorCitizen         0\n",
            "Partner               0\n",
            "Dependents            0\n",
            "tenure                0\n",
            "PhoneService          0\n",
            "MultipleLines         0\n",
            "InternetService       0\n",
            "OnlineSecurity        0\n",
            "OnlineBackup          0\n",
            "DeviceProtection      0\n",
            "TechSupport           0\n",
            "StreamingTV           0\n",
            "StreamingMovies       0\n",
            "Contract              0\n",
            "PaperlessBilling      0\n",
            "PaymentMethod         0\n",
            "MonthlyCharges        0\n",
            "TotalCharges         10\n",
            "Churn                 0\n"
          ]
        }
      ]
    },
    {
      "cell_type": "code",
      "metadata": {
        "colab": {
          "base_uri": "https://localhost:8080/"
        },
        "id": "KyA5F7Q_oVRH",
        "outputId": "71374ab6-1b81-44a3-cef2-8f090dcfc88c"
      },
      "source": [
        "# Check duplicates\n",
        "print(\"Total number of duplicated rows:\", len(clean_df[clean_df.duplicated()]))"
      ],
      "execution_count": null,
      "outputs": [
        {
          "output_type": "stream",
          "name": "stdout",
          "text": [
            "Total number of duplicated rows: 16\n"
          ]
        }
      ]
    },
    {
      "cell_type": "code",
      "metadata": {
        "colab": {
          "base_uri": "https://localhost:8080/"
        },
        "id": "SbVWkBnhpsSG",
        "outputId": "e58c5461-64da-44ad-86e4-5bfeb0ea4883"
      },
      "source": [
        "# Split in categorical and numeric features for analysis\n",
        "categorical_features = clean_df.select_dtypes(include=[\"object\"]).columns.to_list()\n",
        "numeric_features = clean_df.select_dtypes(include=[\"float64\", \"int64\"]).columns.to_list()\n",
        "\n",
        "print(\"\\nCategorical features:\", len(categorical_features))\n",
        "print(categorical_features)\n",
        "print(\"\\nNumeric features:\", len(numeric_features))\n",
        "print(numeric_features)"
      ],
      "execution_count": null,
      "outputs": [
        {
          "output_type": "stream",
          "name": "stdout",
          "text": [
            "\n",
            "Categorical features: 16\n",
            "['gender', 'Partner', 'Dependents', 'PhoneService', 'MultipleLines', 'InternetService', 'OnlineSecurity', 'OnlineBackup', 'DeviceProtection', 'TechSupport', 'StreamingTV', 'StreamingMovies', 'Contract', 'PaperlessBilling', 'PaymentMethod', 'Churn']\n",
            "\n",
            "Numeric features: 4\n",
            "['SeniorCitizen', 'tenure', 'MonthlyCharges', 'TotalCharges']\n"
          ]
        }
      ]
    },
    {
      "cell_type": "markdown",
      "metadata": {
        "id": "q7GMSVXcpDf3"
      },
      "source": [
        "### Fields exploration - Categorical"
      ]
    },
    {
      "cell_type": "code",
      "metadata": {
        "colab": {
          "base_uri": "https://localhost:8080/"
        },
        "id": "Stg2Q9xwpHnj",
        "outputId": "56688860-aaed-41b6-8f78-2ba92610a478"
      },
      "source": [
        "# Number of unique records per categorical variable\n",
        "for col in categorical_features:\n",
        "  print(\"Column name:\", col, \"-\", len(clean_df[col].unique()))"
      ],
      "execution_count": null,
      "outputs": [
        {
          "output_type": "stream",
          "name": "stdout",
          "text": [
            "Column name: gender - 2\n",
            "Column name: Partner - 2\n",
            "Column name: Dependents - 2\n",
            "Column name: PhoneService - 2\n",
            "Column name: MultipleLines - 3\n",
            "Column name: InternetService - 3\n",
            "Column name: OnlineSecurity - 3\n",
            "Column name: OnlineBackup - 3\n",
            "Column name: DeviceProtection - 3\n",
            "Column name: TechSupport - 3\n",
            "Column name: StreamingTV - 3\n",
            "Column name: StreamingMovies - 3\n",
            "Column name: Contract - 3\n",
            "Column name: PaperlessBilling - 2\n",
            "Column name: PaymentMethod - 4\n",
            "Column name: Churn - 2\n"
          ]
        }
      ]
    },
    {
      "cell_type": "code",
      "metadata": {
        "colab": {
          "base_uri": "https://localhost:8080/"
        },
        "id": "8YKp4RGqatVN",
        "outputId": "c4c3dc0b-d476-4710-b477-59704e3b7d5d"
      },
      "source": [
        "for col_name in clean_df.select_dtypes(\"object\").columns.to_list():\n",
        "  print(\"\\n\", col_name)\n",
        "  print(clean_df[col_name].unique())"
      ],
      "execution_count": null,
      "outputs": [
        {
          "output_type": "stream",
          "name": "stdout",
          "text": [
            "\n",
            " gender\n",
            "['Male' 'Female']\n",
            "\n",
            " Partner\n",
            "['Yes' 'No']\n",
            "\n",
            " Dependents\n",
            "['Yes' 'No']\n",
            "\n",
            " PhoneService\n",
            "['Yes' 'No']\n",
            "\n",
            " MultipleLines\n",
            "['Yes' 'No' 'No phone service']\n",
            "\n",
            " InternetService\n",
            "['No' 'Fiber optic' 'DSL']\n",
            "\n",
            " OnlineSecurity\n",
            "['No internet service' 'No' 'Yes']\n",
            "\n",
            " OnlineBackup\n",
            "['No internet service' 'Yes' 'No']\n",
            "\n",
            " DeviceProtection\n",
            "['No internet service' 'Yes' 'No']\n",
            "\n",
            " TechSupport\n",
            "['No internet service' 'No' 'Yes']\n",
            "\n",
            " StreamingTV\n",
            "['No internet service' 'Yes' 'No']\n",
            "\n",
            " StreamingMovies\n",
            "['No internet service' 'No' 'Yes']\n",
            "\n",
            " Contract\n",
            "['Two year' 'Month-to-month' 'One year']\n",
            "\n",
            " PaperlessBilling\n",
            "['No' 'Yes']\n",
            "\n",
            " PaymentMethod\n",
            "['Credit card (automatic)' 'Bank transfer (automatic)' 'Electronic check'\n",
            " 'Mailed check']\n",
            "\n",
            " Churn\n",
            "['No' 'Yes']\n"
          ]
        }
      ]
    },
    {
      "cell_type": "code",
      "metadata": {
        "id": "qDWKpYTBrTh6"
      },
      "source": [
        "# Categorical features cleaning\n",
        "\n",
        "# Recode Partner to 1/0\n",
        "clean_df.loc[clean_df['Partner'] == \"Yes\", \"Partner\"] = 1\n",
        "clean_df.loc[clean_df['Partner'] == \"No\", \"Partner\"] = 0\n",
        "clean_df['Partner'] = clean_df['Partner'].astype(\"int\")\n",
        "\n",
        "# Recode Dependents to 1/0\n",
        "clean_df.loc[clean_df['Dependents'] == \"Yes\", \"Dependents\"] = 1\n",
        "clean_df.loc[clean_df['Dependents'] == \"No\", \"Dependents\"] = 0\n",
        "clean_df['Dependents'] = clean_df['Dependents'].astype(\"int\")\n",
        "\n",
        "# Recode PhoneService to 1/0\n",
        "clean_df.loc[clean_df['PhoneService'] == \"Yes\", \"PhoneService\"] = 1\n",
        "clean_df.loc[clean_df['PhoneService'] == \"No\", \"PhoneService\"] = 0\n",
        "clean_df['PhoneService'] = clean_df['PhoneService'].astype(\"int\")\n",
        "\n",
        "# Recode PaperlessBilling to 1/0\n",
        "clean_df.loc[clean_df['PaperlessBilling'] == \"Yes\", \"PaperlessBilling\"] = 1\n",
        "clean_df.loc[clean_df['PaperlessBilling'] == \"No\", \"PaperlessBilling\"] = 0\n",
        "clean_df['PaperlessBilling'] = clean_df['PaperlessBilling'].astype(\"int\")"
      ],
      "execution_count": null,
      "outputs": []
    },
    {
      "cell_type": "code",
      "metadata": {
        "colab": {
          "base_uri": "https://localhost:8080/"
        },
        "id": "qgQxNG1DxqA-",
        "outputId": "63197511-4b5e-41df-e979-f07a231e5e0d"
      },
      "source": [
        "clean_df.info()"
      ],
      "execution_count": null,
      "outputs": [
        {
          "output_type": "stream",
          "name": "stdout",
          "text": [
            "<class 'pandas.core.frame.DataFrame'>\n",
            "Int64Index: 5986 entries, 1869 to 860\n",
            "Data columns (total 20 columns):\n",
            " #   Column            Non-Null Count  Dtype  \n",
            "---  ------            --------------  -----  \n",
            " 0   gender            5986 non-null   object \n",
            " 1   SeniorCitizen     5986 non-null   int64  \n",
            " 2   Partner           5986 non-null   int64  \n",
            " 3   Dependents        5986 non-null   int64  \n",
            " 4   tenure            5986 non-null   int64  \n",
            " 5   PhoneService      5986 non-null   int64  \n",
            " 6   MultipleLines     5986 non-null   object \n",
            " 7   InternetService   5986 non-null   object \n",
            " 8   OnlineSecurity    5986 non-null   object \n",
            " 9   OnlineBackup      5986 non-null   object \n",
            " 10  DeviceProtection  5986 non-null   object \n",
            " 11  TechSupport       5986 non-null   object \n",
            " 12  StreamingTV       5986 non-null   object \n",
            " 13  StreamingMovies   5986 non-null   object \n",
            " 14  Contract          5986 non-null   object \n",
            " 15  PaperlessBilling  5986 non-null   int64  \n",
            " 16  PaymentMethod     5986 non-null   object \n",
            " 17  MonthlyCharges    5986 non-null   float64\n",
            " 18  TotalCharges      5976 non-null   float64\n",
            " 19  Churn             5986 non-null   object \n",
            "dtypes: float64(2), int64(6), object(12)\n",
            "memory usage: 982.1+ KB\n"
          ]
        }
      ]
    },
    {
      "cell_type": "markdown",
      "metadata": {
        "id": "AUTuGvxwtp-v"
      },
      "source": [
        "**Dependant variable balance - Churn**"
      ]
    },
    {
      "cell_type": "code",
      "metadata": {
        "colab": {
          "base_uri": "https://localhost:8080/"
        },
        "id": "HEwQI21EtsS6",
        "outputId": "5d18f6ef-8dfa-4774-b1ff-3abbf3897c2f"
      },
      "source": [
        "# Check Churn values\n",
        "clean_df[\"Churn\"].value_counts()"
      ],
      "execution_count": null,
      "outputs": [
        {
          "output_type": "execute_result",
          "data": {
            "text/plain": [
              "No     4399\n",
              "Yes    1587\n",
              "Name: Churn, dtype: int64"
            ]
          },
          "metadata": {},
          "execution_count": 606
        }
      ]
    },
    {
      "cell_type": "code",
      "metadata": {
        "id": "-lY3yaezxr7L"
      },
      "source": [
        "# Recode Churn to 1/0\n",
        "clean_df.loc[clean_df['Churn'] == \"Yes\", \"Churn\"] = 1\n",
        "clean_df.loc[clean_df['Churn'] == \"No\", \"Churn\"] = 0\n",
        "clean_df['Churn'] = clean_df['Churn'].astype(\"int\")"
      ],
      "execution_count": null,
      "outputs": []
    },
    {
      "cell_type": "markdown",
      "metadata": {
        "id": "zMtLdWEGpOms"
      },
      "source": [
        "### Fields exploration - Numerical"
      ]
    },
    {
      "cell_type": "code",
      "metadata": {
        "colab": {
          "base_uri": "https://localhost:8080/",
          "height": 498
        },
        "id": "Pepku1XXxZ7K",
        "outputId": "a5959253-d20b-489b-ca24-35d1c62aebf1"
      },
      "source": [
        "# Numerical features distributions\n",
        "clean_df.hist(figsize=(20,8));"
      ],
      "execution_count": null,
      "outputs": [
        {
          "output_type": "display_data",
          "data": {
            "image/png": "[encoded data removed]",
            "text/plain": [
              "<Figure size 1440x576 with 9 Axes>"
            ]
          },
          "metadata": {
            "needs_background": "light"
          }
        }
      ]
    },
    {
      "cell_type": "code",
      "metadata": {
        "colab": {
          "base_uri": "https://localhost:8080/",
          "height": 340
        },
        "id": "z_GQb9f4CzVY",
        "outputId": "b21ff685-7d9b-466b-c4fd-b8805d2678d9"
      },
      "source": [
        "# Add correlation matrix\n",
        "corr = clean_df.corr()\n",
        "sns.heatmap(corr, \n",
        "            xticklabels=corr.columns.values,\n",
        "            yticklabels=corr.columns.values);"
      ],
      "execution_count": null,
      "outputs": [
        {
          "output_type": "display_data",
          "data": {
            "image/png": "[encoded data removed]",
            "text/plain": [
              "<Figure size 432x288 with 2 Axes>"
            ]
          },
          "metadata": {
            "needs_background": "light"
          }
        }
      ]
    },
    {
      "cell_type": "markdown",
      "metadata": {
        "id": "zItGBAWge6Nt"
      },
      "source": [
        "### Adding new columns"
      ]
    },
    {
      "cell_type": "code",
      "metadata": {
        "id": "6WjbIDK1N-yP"
      },
      "source": [
        "def test1(df):\n",
        "  df = df.drop(columns=[\"gender\"])\n",
        "  return df\n",
        "\n",
        "def test2(df):\n",
        "  df[\"basic_subscription\"] = np.where(\n",
        "      df[\"MonthlyCharges\"] <= 20, 1, 0)\n",
        "  return df\n",
        "\n",
        "\n",
        "def test3(df):\n",
        "  df[\"Contract\"] = np.where(\n",
        "      df[\"Contract\"] == \"Mont-to-month\" , \"no permanence\", \"permanence\")\n",
        "  return df\n",
        "\n",
        "def test4(df):\n",
        "  df[\"avg_MonthlyCharges\"] = df[\"TotalCharges\"] / df[\"tenure\"]\n",
        "  df = df.drop(columns=[\"TotalCharges\"])\n",
        "  return df\n",
        "\n",
        "def test5(df):\n",
        "  def extraservices(row):\n",
        "    if (row['OnlineSecurity'] == \"Yes\") or (row['OnlineBackup'] == \"Yes\") or (row['DeviceProtection'] == \"Yes\") or (row['TechSupport'] == \"Yes\") or (row['StreamingTV'] == \"Yes\") or (row['StreamingMovies'] == \"Yes\"):\n",
        "      value = 1\n",
        "    else:\n",
        "      value = 0\n",
        "    return value\n",
        "\n",
        "  df['ExtraServices'] = df.apply(extraservices, axis=1)\n",
        "  \n",
        "  df = df.drop(columns=[\"OnlineSecurity\", \"OnlineBackup\", \"DeviceProtection\", \"TechSupport\", \"StreamingTV\", \"StreamingMovies\"])\n",
        "  return df"
      ],
      "execution_count": null,
      "outputs": []
    },
    {
      "cell_type": "code",
      "metadata": {
        "colab": {
          "base_uri": "https://localhost:8080/",
          "height": 106
        },
        "id": "tvOTQFEoO3Ji",
        "outputId": "19280b63-520f-419a-a778-6f6d493bb8b0"
      },
      "source": [
        "# Load clean data\n",
        "\"\"\"\n",
        "tests = [test1(test_df), test2(test_df)]\n",
        "\n",
        "for test in tests:\n",
        "\n",
        "  test_df = clean_df.copy()\n",
        "\n",
        "  X = test_df.drop(columns=\"Churn\")\n",
        "  y = test_df[\"Churn\"]\n",
        "\n",
        "  X_train, X_test, y_train, y_test = train_test_split(X, y, test_size=0.25, random_state=42, stratify=y)\n",
        "\n",
        "  X_train.shape, X_test.shape, y_train.shape, y_test.shape\n",
        "\n",
        "  categorical_features = X_train.select_dtypes(\"object\").columns.to_list()\n",
        "  numeric_features = X_train.select_dtypes([\"int64\", \"float64\"]).columns.to_list()\n",
        "\n",
        "  categorical_transformer = Pipeline(steps=[\n",
        "                                            (\"onehot\", OneHotEncoder(handle_unknown=\"ignore\"))\n",
        "                                            ])\n",
        "\n",
        "  # Numeric features\n",
        "  numeric_transformer = Pipeline(steps=[\n",
        "                                        (\"knn_imputer\", KNNImputer(n_neighbors=5)),\n",
        "                                        (\"scaler\", StandardScaler())\n",
        "                                        ])\n",
        "\n",
        "  # Column transformer\n",
        "  preprocessor = ColumnTransformer(transformers=[\n",
        "                                                (\"num\", numeric_transformer, \n",
        "                                                        numeric_features),\n",
        "                                                (\"cat\", categorical_transformer, \n",
        "                                                        categorical_features)\n",
        "                                                ])\n",
        "\n",
        "\n",
        "  model = LogisticRegression(random_state=42, solver='liblinear')\n",
        "\n",
        "  train_recall, test_recall, train_precision, test_precision, train_f1, test_f1 = calc_score(preprocessor, model)\n",
        "\"\"\""
      ],
      "execution_count": null,
      "outputs": [
        {
          "output_type": "execute_result",
          "data": {
            "application/vnd.google.colaboratory.intrinsic+json": {
              "type": "string"
            },
            "text/plain": [
              "'\\ntests = [test1(test_df), test2(test_df)]\\n\\nfor test in tests:\\n\\n  test_df = clean_df.copy()\\n\\n  X = test_df.drop(columns=\"Churn\")\\n  y = test_df[\"Churn\"]\\n\\n  X_train, X_test, y_train, y_test = train_test_split(X, y, test_size=0.25, random_state=42, stratify=y)\\n\\n  X_train.shape, X_test.shape, y_train.shape, y_test.shape\\n\\n  categorical_features = X_train.select_dtypes(\"object\").columns.to_list()\\n  numeric_features = X_train.select_dtypes([\"int64\", \"float64\"]).columns.to_list()\\n\\n  categorical_transformer = Pipeline(steps=[\\n                                            (\"onehot\", OneHotEncoder(handle_unknown=\"ignore\"))\\n                                            ])\\n\\n  # Numeric features\\n  numeric_transformer = Pipeline(steps=[\\n                                        (\"knn_imputer\", KNNImputer(n_neighbors=5)),\\n                                        (\"scaler\", StandardScaler())\\n                                        ])\\n\\n  # Column transformer\\n  preprocessor = ColumnTransformer(transformers=[\\n                                                (\"num\", numeric_transformer, \\n                                                        numeric_features),\\n                                                (\"cat\", categorical_transformer, \\n                                                        categorical_features)\\n                                                ])\\n\\n\\n  model = LogisticRegression(random_state=42, solver=\\'liblinear\\')\\n\\n  train_recall, test_recall, train_precision, test_precision, train_f1, test_f1 = calc_score(preprocessor, model)\\n'"
            ]
          },
          "metadata": {},
          "execution_count": 611
        }
      ]
    },
    {
      "cell_type": "code",
      "metadata": {
        "id": "SU5JOuDc22ec"
      },
      "source": [
        "# Scale data to plot the boxplots\n",
        "numeric_features = clean_df.select_dtypes(include=[\"float64\", \"int64\"]).columns.to_list()\n",
        "\n",
        "ss = StandardScaler()\n",
        "\n",
        "scaled_df = ss.fit_transform(clean_df[numeric_features])\n",
        "scaled_df = pd.DataFrame(scaled_df, columns=numeric_features)"
      ],
      "execution_count": null,
      "outputs": []
    },
    {
      "cell_type": "code",
      "metadata": {
        "colab": {
          "base_uri": "https://localhost:8080/",
          "height": 483
        },
        "id": "gtDz55Mv2XP0",
        "outputId": "971695a9-33b3-47fd-d5df-197a01d5a0a5"
      },
      "source": [
        "scaled_df.boxplot(figsize=(20, 8));"
      ],
      "execution_count": null,
      "outputs": [
        {
          "output_type": "display_data",
          "data": {
            "image/png": "[encoded data removed]",
            "text/plain": [
              "<Figure size 1440x576 with 1 Axes>"
            ]
          },
          "metadata": {
            "needs_background": "light"
          }
        }
      ]
    },
    {
      "cell_type": "markdown",
      "metadata": {
        "id": "IJibHio42oUK"
      },
      "source": [
        "### Model"
      ]
    },
    {
      "cell_type": "code",
      "metadata": {
        "colab": {
          "base_uri": "https://localhost:8080/",
          "height": 305
        },
        "id": "6_iO5VpmbKUe",
        "outputId": "6972bdf7-34c2-4e4b-c7e4-849e6a858923"
      },
      "source": [
        "clean_df.head()"
      ],
      "execution_count": null,
      "outputs": [
        {
          "output_type": "execute_result",
          "data": {
            "text/html": [
              "<div>\n",
              "<style scoped>\n",
              "    .dataframe tbody tr th:only-of-type {\n",
              "        vertical-align: middle;\n",
              "    }\n",
              "\n",
              "    .dataframe tbody tr th {\n",
              "        vertical-align: top;\n",
              "    }\n",
              "\n",
              "    .dataframe thead th {\n",
              "        text-align: right;\n",
              "    }\n",
              "</style>\n",
              "<table border=\"1\" class=\"dataframe\">\n",
              "  <thead>\n",
              "    <tr style=\"text-align: right;\">\n",
              "      <th></th>\n",
              "      <th>gender</th>\n",
              "      <th>SeniorCitizen</th>\n",
              "      <th>Partner</th>\n",
              "      <th>Dependents</th>\n",
              "      <th>tenure</th>\n",
              "      <th>PhoneService</th>\n",
              "      <th>MultipleLines</th>\n",
              "      <th>InternetService</th>\n",
              "      <th>OnlineSecurity</th>\n",
              "      <th>OnlineBackup</th>\n",
              "      <th>DeviceProtection</th>\n",
              "      <th>TechSupport</th>\n",
              "      <th>StreamingTV</th>\n",
              "      <th>StreamingMovies</th>\n",
              "      <th>Contract</th>\n",
              "      <th>PaperlessBilling</th>\n",
              "      <th>PaymentMethod</th>\n",
              "      <th>MonthlyCharges</th>\n",
              "      <th>TotalCharges</th>\n",
              "      <th>Churn</th>\n",
              "    </tr>\n",
              "  </thead>\n",
              "  <tbody>\n",
              "    <tr>\n",
              "      <th>1869</th>\n",
              "      <td>Male</td>\n",
              "      <td>0</td>\n",
              "      <td>1</td>\n",
              "      <td>1</td>\n",
              "      <td>72</td>\n",
              "      <td>1</td>\n",
              "      <td>Yes</td>\n",
              "      <td>No</td>\n",
              "      <td>No internet service</td>\n",
              "      <td>No internet service</td>\n",
              "      <td>No internet service</td>\n",
              "      <td>No internet service</td>\n",
              "      <td>No internet service</td>\n",
              "      <td>No internet service</td>\n",
              "      <td>Two year</td>\n",
              "      <td>0</td>\n",
              "      <td>Credit card (automatic)</td>\n",
              "      <td>24.10</td>\n",
              "      <td>1734.65</td>\n",
              "      <td>0</td>\n",
              "    </tr>\n",
              "    <tr>\n",
              "      <th>4528</th>\n",
              "      <td>Female</td>\n",
              "      <td>0</td>\n",
              "      <td>0</td>\n",
              "      <td>0</td>\n",
              "      <td>44</td>\n",
              "      <td>1</td>\n",
              "      <td>No</td>\n",
              "      <td>Fiber optic</td>\n",
              "      <td>No</td>\n",
              "      <td>Yes</td>\n",
              "      <td>Yes</td>\n",
              "      <td>No</td>\n",
              "      <td>Yes</td>\n",
              "      <td>No</td>\n",
              "      <td>Month-to-month</td>\n",
              "      <td>1</td>\n",
              "      <td>Credit card (automatic)</td>\n",
              "      <td>88.15</td>\n",
              "      <td>3973.20</td>\n",
              "      <td>0</td>\n",
              "    </tr>\n",
              "    <tr>\n",
              "      <th>6344</th>\n",
              "      <td>Female</td>\n",
              "      <td>1</td>\n",
              "      <td>1</td>\n",
              "      <td>0</td>\n",
              "      <td>38</td>\n",
              "      <td>1</td>\n",
              "      <td>Yes</td>\n",
              "      <td>Fiber optic</td>\n",
              "      <td>No</td>\n",
              "      <td>No</td>\n",
              "      <td>No</td>\n",
              "      <td>No</td>\n",
              "      <td>No</td>\n",
              "      <td>No</td>\n",
              "      <td>Month-to-month</td>\n",
              "      <td>1</td>\n",
              "      <td>Bank transfer (automatic)</td>\n",
              "      <td>74.95</td>\n",
              "      <td>2869.85</td>\n",
              "      <td>1</td>\n",
              "    </tr>\n",
              "    <tr>\n",
              "      <th>6739</th>\n",
              "      <td>Male</td>\n",
              "      <td>0</td>\n",
              "      <td>0</td>\n",
              "      <td>0</td>\n",
              "      <td>4</td>\n",
              "      <td>1</td>\n",
              "      <td>No</td>\n",
              "      <td>DSL</td>\n",
              "      <td>No</td>\n",
              "      <td>No</td>\n",
              "      <td>No</td>\n",
              "      <td>No</td>\n",
              "      <td>No</td>\n",
              "      <td>Yes</td>\n",
              "      <td>Month-to-month</td>\n",
              "      <td>1</td>\n",
              "      <td>Electronic check</td>\n",
              "      <td>55.90</td>\n",
              "      <td>238.50</td>\n",
              "      <td>0</td>\n",
              "    </tr>\n",
              "    <tr>\n",
              "      <th>432</th>\n",
              "      <td>Male</td>\n",
              "      <td>0</td>\n",
              "      <td>0</td>\n",
              "      <td>0</td>\n",
              "      <td>2</td>\n",
              "      <td>1</td>\n",
              "      <td>No</td>\n",
              "      <td>DSL</td>\n",
              "      <td>Yes</td>\n",
              "      <td>No</td>\n",
              "      <td>Yes</td>\n",
              "      <td>No</td>\n",
              "      <td>No</td>\n",
              "      <td>No</td>\n",
              "      <td>Month-to-month</td>\n",
              "      <td>0</td>\n",
              "      <td>Electronic check</td>\n",
              "      <td>53.45</td>\n",
              "      <td>119.50</td>\n",
              "      <td>0</td>\n",
              "    </tr>\n",
              "  </tbody>\n",
              "</table>\n",
              "</div>"
            ],
            "text/plain": [
              "      gender  SeniorCitizen  Partner  ...  MonthlyCharges  TotalCharges  Churn\n",
              "1869    Male              0        1  ...           24.10       1734.65      0\n",
              "4528  Female              0        0  ...           88.15       3973.20      0\n",
              "6344  Female              1        1  ...           74.95       2869.85      1\n",
              "6739    Male              0        0  ...           55.90        238.50      0\n",
              "432     Male              0        0  ...           53.45        119.50      0\n",
              "\n",
              "[5 rows x 20 columns]"
            ]
          },
          "metadata": {},
          "execution_count": 614
        }
      ]
    },
    {
      "cell_type": "code",
      "metadata": {
        "id": "w1ddHVuObNZQ"
      },
      "source": [
        "X = clean_df.drop(columns=\"Churn\")\n",
        "y = clean_df[\"Churn\"]"
      ],
      "execution_count": null,
      "outputs": []
    },
    {
      "cell_type": "code",
      "metadata": {
        "colab": {
          "base_uri": "https://localhost:8080/"
        },
        "id": "ypXCJ7VG2pTw",
        "outputId": "b263a73c-b03f-43fc-b85f-b76e282a4b86"
      },
      "source": [
        "# Split data in train and test\n",
        "X_train, X_test, y_train, y_test = train_test_split(X, y, test_size=0.3, random_state=42, stratify=y)\n",
        "\n",
        "X_train.shape, X_test.shape, y_train.shape, y_test.shape"
      ],
      "execution_count": null,
      "outputs": [
        {
          "output_type": "execute_result",
          "data": {
            "text/plain": [
              "((4190, 19), (1796, 19), (4190,), (1796,))"
            ]
          },
          "metadata": {},
          "execution_count": 616
        }
      ]
    },
    {
      "cell_type": "code",
      "metadata": {
        "colab": {
          "base_uri": "https://localhost:8080/"
        },
        "id": "8AP3M-ZP57e2",
        "outputId": "6dfcc5f3-5f9d-4464-caea-b78ecfd543f8"
      },
      "source": [
        "categorical_features = X_train.select_dtypes(\"object\").columns.to_list()\n",
        "numeric_features = X_train.select_dtypes([\"int64\", \"float64\"]).columns.to_list()\n",
        "\n",
        "print(\"Num of categorical features:\", len(categorical_features))\n",
        "print(\"Num of numeric features:\", len(numeric_features))"
      ],
      "execution_count": null,
      "outputs": [
        {
          "output_type": "stream",
          "name": "stdout",
          "text": [
            "Num of categorical features: 11\n",
            "Num of numeric features: 8\n"
          ]
        }
      ]
    },
    {
      "cell_type": "code",
      "metadata": {
        "id": "YE5vEcZl4-YJ"
      },
      "source": [
        "# Categorical features\n",
        "categorical_transformer = Pipeline(steps=[\n",
        "                                          (\"onehot\", OneHotEncoder(handle_unknown=\"ignore\"))\n",
        "                                          ])\n",
        "\n",
        "# Numeric features\n",
        "numeric_transformer = Pipeline(steps=[\n",
        "                                      (\"knn_imputer\", KNNImputer(n_neighbors=5)),\n",
        "                                      (\"scaler\", StandardScaler())\n",
        "                                      ])\n",
        "\n",
        "# Column transformer\n",
        "preprocessor = ColumnTransformer(transformers=[\n",
        "                                               (\"num\", numeric_transformer, \n",
        "                                                       numeric_features),\n",
        "                                               (\"cat\", categorical_transformer, \n",
        "                                                       categorical_features)\n",
        "                                               ])"
      ],
      "execution_count": null,
      "outputs": []
    },
    {
      "cell_type": "markdown",
      "metadata": {
        "id": "39NTdv3PGMTI"
      },
      "source": [
        "### Low code ML"
      ]
    },
    {
      "cell_type": "code",
      "metadata": {
        "id": "ZHmN66W2F4ux"
      },
      "source": [
        "# !pip install pycaret"
      ],
      "execution_count": null,
      "outputs": []
    },
    {
      "cell_type": "code",
      "metadata": {
        "id": "y85jnKaMF8mn"
      },
      "source": [
        "# !pip install interpret"
      ],
      "execution_count": null,
      "outputs": []
    },
    {
      "cell_type": "code",
      "metadata": {
        "id": "tJJixuifGD-G"
      },
      "source": [
        "# from pycaret.classification import *\n",
        "\n",
        "# # Setting up the parameters to run the models with the auto ml\n",
        "# clas = setup(data=pd.concat([X_train, y_train], axis=1),\n",
        "#             target = 'Churn',\n",
        "#             session_id=13,\n",
        "#             log_experiment=True,\n",
        "#             experiment_name='Churn_pred_1')"
      ],
      "execution_count": null,
      "outputs": []
    },
    {
      "cell_type": "code",
      "metadata": {
        "id": "7Kv6I0C9GKv9"
      },
      "source": [
        "# best_model = compare_models(fold=5, sort=\"Recall\",\n",
        "#                             include=[\"nb\", \"qda\", \"ada\", \"lr\", \"dt\", \"rf\", \"knn\", BernoulliNB()])"
      ],
      "execution_count": null,
      "outputs": []
    },
    {
      "cell_type": "markdown",
      "metadata": {
        "id": "KEXP5gyd98yg"
      },
      "source": [
        "Best precision is for the logistic regression while the best recall is for the NB models"
      ]
    },
    {
      "cell_type": "code",
      "metadata": {
        "id": "3L4UnZdA-EU9"
      },
      "source": [
        "# low_code_lr = create_model('lr')"
      ],
      "execution_count": null,
      "outputs": []
    },
    {
      "cell_type": "code",
      "metadata": {
        "id": "hfvxO2sOiseO"
      },
      "source": [
        "# # Create the GaussianNB\n",
        "# low_code_gnb = create_model('nb')"
      ],
      "execution_count": null,
      "outputs": []
    },
    {
      "cell_type": "code",
      "metadata": {
        "id": "m5LKzT_Qlp_1"
      },
      "source": [
        "# # Create the BernoulliNB\n",
        "# low_code_bnb = create_model(BernoulliNB())"
      ],
      "execution_count": null,
      "outputs": []
    },
    {
      "cell_type": "markdown",
      "metadata": {
        "id": "iwoqqx8Xh25A"
      },
      "source": [
        "### Manual models"
      ]
    },
    {
      "cell_type": "code",
      "metadata": {
        "id": "1Xpzd8b0Y1lL"
      },
      "source": [
        "from sklearn.naive_bayes import GaussianNB\n",
        "\n",
        "# Define models to test\n",
        "lr = LogisticRegression(random_state=42, solver='liblinear')\n",
        "knn = KNeighborsClassifier()\n",
        "bnb = BernoulliNB()\n",
        "gnb = GaussianNB()\n",
        "svc = LinearSVC(random_state=42, max_iter=5000)\n",
        "dtree = DecisionTreeClassifier(random_state=42)\n",
        "\n",
        "# Support objects\n",
        "models = {\"LogisticRegression\": lr,\n",
        "          \"KNNeighbors\": knn,\n",
        "          \"BernoulliNB\": bnb,\n",
        "          \"GaussianNB\": gnb,\n",
        "          \"LinearSVC\": svc,\n",
        "          \"DecisionTree\": dtree,\n",
        "          }\n",
        "\n",
        "scores_dict = {}\n",
        "cross_val_dict = {}"
      ],
      "execution_count": null,
      "outputs": []
    },
    {
      "cell_type": "code",
      "metadata": {
        "id": "K0CmwbWmJJX5"
      },
      "source": [
        "# Define a function to calcualte the scores\n",
        "def calc_score(preprocessor, model):\n",
        "  \n",
        "  pipeline = Pipeline(steps=[\n",
        "                             (\"pre_process\", preprocessor), \n",
        "                             (\"model\", model)\n",
        "                             ])\n",
        "  \n",
        "  pipeline.fit(X_train, y_train)\n",
        "  y_pred = pipeline.predict(X_test)\n",
        "\n",
        "  # Recall\n",
        "  train_recall = cross_val_score(pipeline, X_train, y_train, scoring=\"recall\", cv=4)\n",
        "  train_recall = round(np.mean(train_recall), 3)\n",
        "\n",
        "  test_recall = round(recall_score(y_test, y_pred), 3)\n",
        "\n",
        "  # Precision\n",
        "  train_precision = cross_val_score(pipeline, X_train, y_train, scoring=\"precision\", cv=4)\n",
        "  train_precision = round(np.mean(train_precision), 3)\n",
        "\n",
        "  test_precision = round(precision_score(y_test, y_pred), 3)\n",
        "\n",
        "  # F1\n",
        "  train_f1 = cross_val_score(pipeline, X_train, y_train, scoring=\"f1\", cv=4)\n",
        "  train_f1 = round(np.mean(train_f1), 3)\n",
        "\n",
        "  test_f1 = round(f1_score(y_test, y_pred, average='weighted'), 3)\n",
        "\n",
        "  return train_recall, test_recall, train_precision, test_precision, train_f1, test_f1"
      ],
      "execution_count": null,
      "outputs": []
    },
    {
      "cell_type": "code",
      "metadata": {
        "id": "0D94Mk50ZATO"
      },
      "source": [
        "# Calculate the recall score for each model\n",
        "for model_name, model in models.items():\n",
        "  \n",
        "  train_recall, test_recall, train_precision, test_precision, train_f1, test_f1 = calc_score(preprocessor, model)\n",
        "  \n",
        "  scores_dict[model_name] = [train_recall, test_recall, train_precision, test_precision, train_f1, test_f1]"
      ],
      "execution_count": null,
      "outputs": []
    },
    {
      "cell_type": "code",
      "metadata": {
        "colab": {
          "base_uri": "https://localhost:8080/",
          "height": 232
        },
        "id": "RhF2QNP6ZB5Y",
        "outputId": "8730c412-c59f-41e4-cd9a-237bcb79b8a1"
      },
      "source": [
        "# Create a dataframe with the scores\n",
        "scores_df = pd.DataFrame.from_dict(scores_dict, orient='index', columns=[\"train_recall\", \"test_recall\", \"train_precision\", \"test_precision\", \"train_f1\", \"test_f1\"])\n",
        "scores_df"
      ],
      "execution_count": null,
      "outputs": [
        {
          "output_type": "execute_result",
          "data": {
            "text/html": [
              "<div>\n",
              "<style scoped>\n",
              "    .dataframe tbody tr th:only-of-type {\n",
              "        vertical-align: middle;\n",
              "    }\n",
              "\n",
              "    .dataframe tbody tr th {\n",
              "        vertical-align: top;\n",
              "    }\n",
              "\n",
              "    .dataframe thead th {\n",
              "        text-align: right;\n",
              "    }\n",
              "</style>\n",
              "<table border=\"1\" class=\"dataframe\">\n",
              "  <thead>\n",
              "    <tr style=\"text-align: right;\">\n",
              "      <th></th>\n",
              "      <th>train_recall</th>\n",
              "      <th>test_recall</th>\n",
              "      <th>train_precision</th>\n",
              "      <th>test_precision</th>\n",
              "      <th>train_f1</th>\n",
              "      <th>test_f1</th>\n",
              "    </tr>\n",
              "  </thead>\n",
              "  <tbody>\n",
              "    <tr>\n",
              "      <th>LogisticRegression</th>\n",
              "      <td>0.554</td>\n",
              "      <td>0.506</td>\n",
              "      <td>0.666</td>\n",
              "      <td>0.644</td>\n",
              "      <td>0.604</td>\n",
              "      <td>0.787</td>\n",
              "    </tr>\n",
              "    <tr>\n",
              "      <th>KNNeighbors</th>\n",
              "      <td>0.532</td>\n",
              "      <td>0.544</td>\n",
              "      <td>0.560</td>\n",
              "      <td>0.556</td>\n",
              "      <td>0.545</td>\n",
              "      <td>0.763</td>\n",
              "    </tr>\n",
              "    <tr>\n",
              "      <th>BernoulliNB</th>\n",
              "      <td>0.815</td>\n",
              "      <td>0.798</td>\n",
              "      <td>0.491</td>\n",
              "      <td>0.482</td>\n",
              "      <td>0.613</td>\n",
              "      <td>0.735</td>\n",
              "    </tr>\n",
              "    <tr>\n",
              "      <th>GaussianNB</th>\n",
              "      <td>0.848</td>\n",
              "      <td>0.824</td>\n",
              "      <td>0.462</td>\n",
              "      <td>0.452</td>\n",
              "      <td>0.598</td>\n",
              "      <td>0.706</td>\n",
              "    </tr>\n",
              "    <tr>\n",
              "      <th>LinearSVC</th>\n",
              "      <td>0.531</td>\n",
              "      <td>0.502</td>\n",
              "      <td>0.663</td>\n",
              "      <td>0.658</td>\n",
              "      <td>0.590</td>\n",
              "      <td>0.790</td>\n",
              "    </tr>\n",
              "    <tr>\n",
              "      <th>DecisionTree</th>\n",
              "      <td>0.485</td>\n",
              "      <td>0.464</td>\n",
              "      <td>0.481</td>\n",
              "      <td>0.453</td>\n",
              "      <td>0.483</td>\n",
              "      <td>0.710</td>\n",
              "    </tr>\n",
              "  </tbody>\n",
              "</table>\n",
              "</div>"
            ],
            "text/plain": [
              "                    train_recall  test_recall  ...  train_f1  test_f1\n",
              "LogisticRegression         0.554        0.506  ...     0.604    0.787\n",
              "KNNeighbors                0.532        0.544  ...     0.545    0.763\n",
              "BernoulliNB                0.815        0.798  ...     0.613    0.735\n",
              "GaussianNB                 0.848        0.824  ...     0.598    0.706\n",
              "LinearSVC                  0.531        0.502  ...     0.590    0.790\n",
              "DecisionTree               0.485        0.464  ...     0.483    0.710\n",
              "\n",
              "[6 rows x 6 columns]"
            ]
          },
          "metadata": {},
          "execution_count": 622
        }
      ]
    },
    {
      "cell_type": "markdown",
      "metadata": {
        "id": "OPFLbaUSA4sX"
      },
      "source": [
        "Best model for recall: Gaussian\n",
        "\n",
        "Best model for precision: LogisticRegression\n",
        "\n",
        "Best model for f1: LogisticRegression"
      ]
    },
    {
      "cell_type": "markdown",
      "metadata": {
        "id": "x7BozL94dZ9k"
      },
      "source": [
        "### Set up GaussianNB"
      ]
    },
    {
      "cell_type": "code",
      "metadata": {
        "id": "K2KhYlWsdZHh"
      },
      "source": [
        "nb = GaussianNB()\n",
        "  \n",
        "pipeline = Pipeline(steps=[\n",
        "                            (\"pre_process\", preprocessor), \n",
        "                            (\"model\", nb)\n",
        "                            ])\n",
        "\n",
        "pipeline.fit(X_train, y_train)\n",
        "\n",
        "y_pred = pipeline.predict(X_test)"
      ],
      "execution_count": null,
      "outputs": []
    },
    {
      "cell_type": "code",
      "metadata": {
        "colab": {
          "base_uri": "https://localhost:8080/",
          "height": 110
        },
        "id": "lqynOaOEdyPR",
        "outputId": "d663a9fa-b21d-4397-e153-81425af14c2a"
      },
      "source": [
        "# Confussion matrix\n",
        "class_labels = pipeline.named_steps['model'].classes_\n",
        "\n",
        "pd.DataFrame(confusion_matrix(y_test, y_pred), \n",
        "             columns=class_labels, index=class_labels)"
      ],
      "execution_count": null,
      "outputs": [
        {
          "output_type": "execute_result",
          "data": {
            "text/html": [
              "<div>\n",
              "<style scoped>\n",
              "    .dataframe tbody tr th:only-of-type {\n",
              "        vertical-align: middle;\n",
              "    }\n",
              "\n",
              "    .dataframe tbody tr th {\n",
              "        vertical-align: top;\n",
              "    }\n",
              "\n",
              "    .dataframe thead th {\n",
              "        text-align: right;\n",
              "    }\n",
              "</style>\n",
              "<table border=\"1\" class=\"dataframe\">\n",
              "  <thead>\n",
              "    <tr style=\"text-align: right;\">\n",
              "      <th></th>\n",
              "      <th>0</th>\n",
              "      <th>1</th>\n",
              "    </tr>\n",
              "  </thead>\n",
              "  <tbody>\n",
              "    <tr>\n",
              "      <th>0</th>\n",
              "      <td>695</td>\n",
              "      <td>405</td>\n",
              "    </tr>\n",
              "    <tr>\n",
              "      <th>1</th>\n",
              "      <td>69</td>\n",
              "      <td>328</td>\n",
              "    </tr>\n",
              "  </tbody>\n",
              "</table>\n",
              "</div>"
            ],
            "text/plain": [
              "     0    1\n",
              "0  695  405\n",
              "1   69  328"
            ]
          },
          "metadata": {},
          "execution_count": 522
        }
      ]
    },
    {
      "cell_type": "code",
      "metadata": {
        "colab": {
          "base_uri": "https://localhost:8080/"
        },
        "id": "YEzPCo0kdxKy",
        "outputId": "e796179d-c57e-4cb1-93f9-ee2fd5d05c59"
      },
      "source": [
        "# Classification report\n",
        "comp = classification_report(y_test, y_pred)\n",
        "print(comp)"
      ],
      "execution_count": null,
      "outputs": [
        {
          "output_type": "stream",
          "name": "stdout",
          "text": [
            "              precision    recall  f1-score   support\n",
            "\n",
            "           0       0.91      0.63      0.75      1100\n",
            "           1       0.45      0.83      0.58       397\n",
            "\n",
            "    accuracy                           0.68      1497\n",
            "   macro avg       0.68      0.73      0.66      1497\n",
            "weighted avg       0.79      0.68      0.70      1497\n",
            "\n"
          ]
        }
      ]
    },
    {
      "cell_type": "markdown",
      "metadata": {
        "id": "uwilXuA9ebIr"
      },
      "source": [
        "**Classification report explanation**\n",
        "\n",
        "Out of the 463 churn_yes, our model is capable of predicting 366 correctly (0.79\n",
        "\n",
        "Out of the 1333 churn_no, our model is capable of predicting 903 correcty (0.68) \n",
        "\n"
      ]
    },
    {
      "cell_type": "markdown",
      "metadata": {
        "id": "DDlDK43CBaih"
      },
      "source": [
        "### Set up LogisticRegression"
      ]
    },
    {
      "cell_type": "code",
      "metadata": {
        "id": "3G83DcQ3MRJC"
      },
      "source": [
        "lr = LogisticRegression()\n",
        "\n",
        "pipeline = Pipeline(steps=[\n",
        "                            (\"pre_process\", preprocessor), \n",
        "                            (\"model\", lr)\n",
        "                            ])\n",
        "\n",
        "pipeline.fit(X_train, y_train)\n",
        "\n",
        "y_pred = pipeline.predict(X_test)\n",
        "\n",
        "# Confussion matrix\n",
        "class_labels = pipeline.named_steps['model'].classes_\n",
        "conf_matrix = pd.DataFrame(confusion_matrix(y_test, y_pred), \n",
        "                            columns=class_labels, index=class_labels)\n",
        "\n",
        "# Classification report\n",
        "class_report = classification_report(y_test, y_pred)\n"
      ],
      "execution_count": null,
      "outputs": []
    },
    {
      "cell_type": "code",
      "metadata": {
        "colab": {
          "base_uri": "https://localhost:8080/"
        },
        "id": "tKzADtN2BZvC",
        "outputId": "8cea2870-444d-4536-f597-13e593ae6117"
      },
      "source": [
        "print(conf_matrix)\n",
        "print(class_report)"
      ],
      "execution_count": null,
      "outputs": [
        {
          "output_type": "stream",
          "name": "stdout",
          "text": [
            "     0    1\n",
            "0  988  112\n",
            "1  192  205\n",
            "              precision    recall  f1-score   support\n",
            "\n",
            "           0       0.84      0.90      0.87      1100\n",
            "           1       0.65      0.52      0.57       397\n",
            "\n",
            "    accuracy                           0.80      1497\n",
            "   macro avg       0.74      0.71      0.72      1497\n",
            "weighted avg       0.79      0.80      0.79      1497\n",
            "\n"
          ]
        }
      ]
    },
    {
      "cell_type": "markdown",
      "metadata": {
        "id": "cVbKNhOhiPmE"
      },
      "source": [
        "### Hyperparameter tunning"
      ]
    },
    {
      "cell_type": "code",
      "metadata": {
        "id": "GtAt4nszC3gs"
      },
      "source": [
        "# example of grid searching key hyperparametres for logistic regression\n",
        "from sklearn.model_selection import RepeatedStratifiedKFold\n",
        "from sklearn.model_selection import GridSearchCV\n",
        "\n",
        "# Define model\n",
        "model = LogisticRegression()\n",
        "\n",
        "pipeline = Pipeline(steps=[\n",
        "                           (\"pre_process\", preprocessor), \n",
        "                           (\"model\", model)\n",
        "                           ])\n",
        "\n",
        "params={'model__C': [100, 10, 1.0, 0.1, 0.01],\n",
        "        'model__solver': ['newton-cg', 'lbfgs', 'liblinear', 'saga'],\n",
        "        'model__penalty':['l2'],\n",
        "        'model__class_weight': ['balanced', None]\n",
        "        }\n",
        "\n",
        "# define grid search\n",
        "cv = RepeatedStratifiedKFold(n_splits=4, n_repeats=3, random_state=1)\n",
        "\n",
        "grid_search = GridSearchCV(estimator=pipeline, param_grid=params, n_jobs=-1, cv=cv, scoring='f1', error_score=0)\n",
        "\n",
        "grid_result = grid_search.fit(X_train, y_train)\n",
        "\n",
        "# summarize results\n",
        "print(\"Best: %f using %s\" % (grid_result.best_score_, grid_result.best_params_))\n",
        "means = grid_result.cv_results_['mean_test_score']\n",
        "stds = grid_result.cv_results_['std_test_score']\n",
        "params = grid_result.cv_results_['params']\n",
        "\n",
        "for mean, stdev, param in zip(means, stds, params):\n",
        "    print(\"%f (%f) with: %r\" % (mean, stdev, param))\n",
        "\n"
      ],
      "execution_count": null,
      "outputs": []
    },
    {
      "cell_type": "markdown",
      "metadata": {
        "id": "_B2j9vH3Ixx1"
      },
      "source": [
        "Best for precision:\n",
        "\n",
        "Best: 0.667337 using {'model__C': 0.01, 'model__class_weight': None, 'model__penalty': 'l2', 'model__solver': 'newton-cg'}\n",
        "\n",
        "Best for f1 score:\n",
        "\n",
        "Best: 0.624168 using {'model__C': 0.01, 'model__class_weight': 'balanced', 'model__penalty': 'l2', 'model__solver': 'newton-cg'}\n"
      ]
    },
    {
      "cell_type": "markdown",
      "metadata": {
        "id": "LZeBPU6LL-as"
      },
      "source": [
        "### Best model for Precision"
      ]
    },
    {
      "cell_type": "code",
      "metadata": {
        "id": "pQ31fOEFMzpT"
      },
      "source": [
        "lr = LogisticRegression(C=0.01, class_weight=None, penalty='l2', solver='newton-cg')\n",
        "\n",
        "pipeline = Pipeline(steps=[\n",
        "                            (\"pre_process\", preprocessor), \n",
        "                            (\"model\", lr)\n",
        "                            ])\n",
        "\n",
        "pipeline.fit(X_train, y_train)\n",
        "\n",
        "y_pred = pipeline.predict(X_test)\n",
        "\n",
        "# Confussion matrix\n",
        "class_labels = pipeline.named_steps['model'].classes_\n",
        "conf_matrix = pd.DataFrame(confusion_matrix(y_test, y_pred), \n",
        "                            columns=class_labels, index=class_labels)\n",
        "\n",
        "# Classification report\n",
        "class_report = classification_report(y_test, y_pred)"
      ],
      "execution_count": null,
      "outputs": []
    },
    {
      "cell_type": "code",
      "metadata": {
        "colab": {
          "base_uri": "https://localhost:8080/"
        },
        "id": "iMPLHTNuGXtg",
        "outputId": "0c89f36c-d2ec-4ede-d6f7-ed21453165db"
      },
      "source": [
        "print(conf_matrix)\n",
        "print(class_report)"
      ],
      "execution_count": null,
      "outputs": [
        {
          "output_type": "stream",
          "name": "stdout",
          "text": [
            "      0    1\n",
            "0  1006   94\n",
            "1   205  192\n",
            "              precision    recall  f1-score   support\n",
            "\n",
            "           0       0.83      0.91      0.87      1100\n",
            "           1       0.67      0.48      0.56       397\n",
            "\n",
            "    accuracy                           0.80      1497\n",
            "   macro avg       0.75      0.70      0.72      1497\n",
            "weighted avg       0.79      0.80      0.79      1497\n",
            "\n"
          ]
        }
      ]
    },
    {
      "cell_type": "markdown",
      "metadata": {
        "id": "-_bkv9t6MB25"
      },
      "source": [
        "### Best model for f1 score"
      ]
    },
    {
      "cell_type": "code",
      "metadata": {
        "colab": {
          "base_uri": "https://localhost:8080/",
          "height": 110
        },
        "id": "nsFiRK4mLsD5",
        "outputId": "a107fbc3-fedb-4ebd-c766-963b7c58ff77"
      },
      "source": [
        "lr = LogisticRegression(C=0.01, class_weight='balanced', penalty='l2', solver='newton-cg')\n",
        "  \n",
        "pipeline = Pipeline(steps=[\n",
        "                            (\"pre_process\", preprocessor), \n",
        "                            (\"model\", lr)\n",
        "                            ])\n",
        "\n",
        "pipeline.fit(X_train, y_train)\n",
        "\n",
        "y_pred = pipeline.predict(X_test)\n",
        "\n",
        "# Confussion matrix\n",
        "class_labels = pipeline.named_steps['model'].classes_\n",
        "\n",
        "pd.DataFrame(confusion_matrix(y_test, y_pred), \n",
        "             columns=class_labels, index=class_labels)"
      ],
      "execution_count": null,
      "outputs": [
        {
          "output_type": "execute_result",
          "data": {
            "text/html": [
              "<div>\n",
              "<style scoped>\n",
              "    .dataframe tbody tr th:only-of-type {\n",
              "        vertical-align: middle;\n",
              "    }\n",
              "\n",
              "    .dataframe tbody tr th {\n",
              "        vertical-align: top;\n",
              "    }\n",
              "\n",
              "    .dataframe thead th {\n",
              "        text-align: right;\n",
              "    }\n",
              "</style>\n",
              "<table border=\"1\" class=\"dataframe\">\n",
              "  <thead>\n",
              "    <tr style=\"text-align: right;\">\n",
              "      <th></th>\n",
              "      <th>0</th>\n",
              "      <th>1</th>\n",
              "    </tr>\n",
              "  </thead>\n",
              "  <tbody>\n",
              "    <tr>\n",
              "      <th>0</th>\n",
              "      <td>810</td>\n",
              "      <td>290</td>\n",
              "    </tr>\n",
              "    <tr>\n",
              "      <th>1</th>\n",
              "      <td>97</td>\n",
              "      <td>300</td>\n",
              "    </tr>\n",
              "  </tbody>\n",
              "</table>\n",
              "</div>"
            ],
            "text/plain": [
              "     0    1\n",
              "0  810  290\n",
              "1   97  300"
            ]
          },
          "metadata": {},
          "execution_count": 539
        }
      ]
    },
    {
      "cell_type": "code",
      "metadata": {
        "colab": {
          "base_uri": "https://localhost:8080/"
        },
        "id": "62MliXPaLvUY",
        "outputId": "0f53d702-8c1e-4931-e953-3aebe577fc4d"
      },
      "source": [
        "comp = classification_report(y_test, y_pred)\n",
        "print(comp)"
      ],
      "execution_count": null,
      "outputs": [
        {
          "output_type": "stream",
          "name": "stdout",
          "text": [
            "              precision    recall  f1-score   support\n",
            "\n",
            "           0       0.89      0.74      0.81      1100\n",
            "           1       0.51      0.76      0.61       397\n",
            "\n",
            "    accuracy                           0.74      1497\n",
            "   macro avg       0.70      0.75      0.71      1497\n",
            "weighted avg       0.79      0.74      0.75      1497\n",
            "\n"
          ]
        }
      ]
    },
    {
      "cell_type": "markdown",
      "metadata": {
        "id": "znTys2qenJKz"
      },
      "source": [
        "### Model Explainability"
      ]
    },
    {
      "cell_type": "code",
      "metadata": {
        "colab": {
          "base_uri": "https://localhost:8080/"
        },
        "id": "DPG0KWX3nK2B",
        "outputId": "1535b0a4-6267-44b7-aad8-2b8c6b97162b"
      },
      "source": [
        "# !pip install shap"
      ],
      "execution_count": null,
      "outputs": [
        {
          "output_type": "stream",
          "name": "stdout",
          "text": [
            "Requirement already satisfied: shap in /usr/local/lib/python3.7/dist-packages (0.39.0)\n",
            "Requirement already satisfied: cloudpickle in /usr/local/lib/python3.7/dist-packages (from shap) (1.3.0)\n",
            "Requirement already satisfied: scikit-learn in /usr/local/lib/python3.7/dist-packages (from shap) (0.23.2)\n",
            "Requirement already satisfied: numpy in /usr/local/lib/python3.7/dist-packages (from shap) (1.19.5)\n",
            "Requirement already satisfied: numba in /usr/local/lib/python3.7/dist-packages (from shap) (0.51.2)\n",
            "Requirement already satisfied: pandas in /usr/local/lib/python3.7/dist-packages (from shap) (1.1.5)\n",
            "Requirement already satisfied: scipy in /usr/local/lib/python3.7/dist-packages (from shap) (1.5.4)\n",
            "Requirement already satisfied: tqdm>4.25.0 in /usr/local/lib/python3.7/dist-packages (from shap) (4.62.2)\n",
            "Requirement already satisfied: slicer==0.0.7 in /usr/local/lib/python3.7/dist-packages (from shap) (0.0.7)\n",
            "Requirement already satisfied: setuptools in /usr/local/lib/python3.7/dist-packages (from numba->shap) (57.4.0)\n",
            "Requirement already satisfied: llvmlite<0.35,>=0.34.0.dev0 in /usr/local/lib/python3.7/dist-packages (from numba->shap) (0.34.0)\n",
            "Requirement already satisfied: pytz>=2017.2 in /usr/local/lib/python3.7/dist-packages (from pandas->shap) (2018.9)\n",
            "Requirement already satisfied: python-dateutil>=2.7.3 in /usr/local/lib/python3.7/dist-packages (from pandas->shap) (2.8.2)\n",
            "Requirement already satisfied: six>=1.5 in /usr/local/lib/python3.7/dist-packages (from python-dateutil>=2.7.3->pandas->shap) (1.15.0)\n",
            "Requirement already satisfied: joblib>=0.11 in /usr/local/lib/python3.7/dist-packages (from scikit-learn->shap) (1.0.1)\n",
            "Requirement already satisfied: threadpoolctl>=2.0.0 in /usr/local/lib/python3.7/dist-packages (from scikit-learn->shap) (2.2.0)\n"
          ]
        }
      ]
    },
    {
      "cell_type": "code",
      "metadata": {
        "id": "0deG0AeMn0s9"
      },
      "source": [
        "import shap\n",
        "\n",
        "\n",
        "\n"
      ],
      "execution_count": null,
      "outputs": []
    },
    {
      "cell_type": "code",
      "metadata": {
        "colab": {
          "base_uri": "https://localhost:8080/"
        },
        "id": "zuq93f0lneCN",
        "outputId": "69d7ca7e-de08-417f-b3e8-3830fdcff75b"
      },
      "source": [
        "explainer = shap.KernelExplainer(pipeline.predict, data=X_train)\n",
        "shap_values = explainer.shap_values(X_test)"
      ],
      "execution_count": null,
      "outputs": [
        {
          "output_type": "stream",
          "name": "stdout",
          "text": [
            "Provided model function fails when applied to the provided data set.\n"
          ]
        },
        {
          "output_type": "error",
          "ename": "ValueError",
          "evalue": "ignored",
          "traceback": [
            "\u001b[0;31m---------------------------------------------------------------------------\u001b[0m",
            "\u001b[0;31mEmpty\u001b[0m                                     Traceback (most recent call last)",
            "\u001b[0;32m/usr/local/lib/python3.7/dist-packages/joblib/parallel.py\u001b[0m in \u001b[0;36mdispatch_one_batch\u001b[0;34m(self, iterator)\u001b[0m\n\u001b[1;32m    819\u001b[0m             \u001b[0;32mtry\u001b[0m\u001b[0;34m:\u001b[0m\u001b[0;34m\u001b[0m\u001b[0;34m\u001b[0m\u001b[0m\n\u001b[0;32m--> 820\u001b[0;31m                 \u001b[0mtasks\u001b[0m \u001b[0;34m=\u001b[0m \u001b[0mself\u001b[0m\u001b[0;34m.\u001b[0m\u001b[0m_ready_batches\u001b[0m\u001b[0;34m.\u001b[0m\u001b[0mget\u001b[0m\u001b[0;34m(\u001b[0m\u001b[0mblock\u001b[0m\u001b[0;34m=\u001b[0m\u001b[0;32mFalse\u001b[0m\u001b[0;34m)\u001b[0m\u001b[0;34m\u001b[0m\u001b[0;34m\u001b[0m\u001b[0m\n\u001b[0m\u001b[1;32m    821\u001b[0m             \u001b[0;32mexcept\u001b[0m \u001b[0mqueue\u001b[0m\u001b[0;34m.\u001b[0m\u001b[0mEmpty\u001b[0m\u001b[0;34m:\u001b[0m\u001b[0;34m\u001b[0m\u001b[0;34m\u001b[0m\u001b[0m\n",
            "\u001b[0;32m/usr/lib/python3.7/queue.py\u001b[0m in \u001b[0;36mget\u001b[0;34m(self, block, timeout)\u001b[0m\n\u001b[1;32m    166\u001b[0m                 \u001b[0;32mif\u001b[0m \u001b[0;32mnot\u001b[0m \u001b[0mself\u001b[0m\u001b[0;34m.\u001b[0m\u001b[0m_qsize\u001b[0m\u001b[0;34m(\u001b[0m\u001b[0;34m)\u001b[0m\u001b[0;34m:\u001b[0m\u001b[0;34m\u001b[0m\u001b[0;34m\u001b[0m\u001b[0m\n\u001b[0;32m--> 167\u001b[0;31m                     \u001b[0;32mraise\u001b[0m \u001b[0mEmpty\u001b[0m\u001b[0;34m\u001b[0m\u001b[0;34m\u001b[0m\u001b[0m\n\u001b[0m\u001b[1;32m    168\u001b[0m             \u001b[0;32melif\u001b[0m \u001b[0mtimeout\u001b[0m \u001b[0;32mis\u001b[0m \u001b[0;32mNone\u001b[0m\u001b[0;34m:\u001b[0m\u001b[0;34m\u001b[0m\u001b[0;34m\u001b[0m\u001b[0m\n",
            "\u001b[0;31mEmpty\u001b[0m: ",
            "\nDuring handling of the above exception, another exception occurred:\n",
            "\u001b[0;31mValueError\u001b[0m                                Traceback (most recent call last)",
            "\u001b[0;32m/tmp/ipykernel_4816/424018570.py\u001b[0m in \u001b[0;36m<module>\u001b[0;34m\u001b[0m\n\u001b[0;32m----> 1\u001b[0;31m \u001b[0mexplainer\u001b[0m \u001b[0;34m=\u001b[0m \u001b[0mshap\u001b[0m\u001b[0;34m.\u001b[0m\u001b[0mKernelExplainer\u001b[0m\u001b[0;34m(\u001b[0m\u001b[0mpipeline\u001b[0m\u001b[0;34m.\u001b[0m\u001b[0mpredict\u001b[0m\u001b[0;34m,\u001b[0m \u001b[0mdata\u001b[0m\u001b[0;34m=\u001b[0m\u001b[0mX_train\u001b[0m\u001b[0;34m)\u001b[0m\u001b[0;34m\u001b[0m\u001b[0;34m\u001b[0m\u001b[0m\n\u001b[0m\u001b[1;32m      2\u001b[0m \u001b[0mshap_values\u001b[0m \u001b[0;34m=\u001b[0m \u001b[0mexplainer\u001b[0m\u001b[0;34m.\u001b[0m\u001b[0mshap_values\u001b[0m\u001b[0;34m(\u001b[0m\u001b[0mX_test\u001b[0m\u001b[0;34m)\u001b[0m\u001b[0;34m\u001b[0m\u001b[0;34m\u001b[0m\u001b[0m\n",
            "\u001b[0;32m/usr/local/lib/python3.7/dist-packages/shap/explainers/_kernel.py\u001b[0m in \u001b[0;36m__init__\u001b[0;34m(self, model, data, link, **kwargs)\u001b[0m\n\u001b[1;32m     67\u001b[0m         \u001b[0mself\u001b[0m\u001b[0;34m.\u001b[0m\u001b[0mkeep_index_ordered\u001b[0m \u001b[0;34m=\u001b[0m \u001b[0mkwargs\u001b[0m\u001b[0;34m.\u001b[0m\u001b[0mget\u001b[0m\u001b[0;34m(\u001b[0m\u001b[0;34m\"keep_index_ordered\"\u001b[0m\u001b[0;34m,\u001b[0m \u001b[0;32mFalse\u001b[0m\u001b[0;34m)\u001b[0m\u001b[0;34m\u001b[0m\u001b[0;34m\u001b[0m\u001b[0m\n\u001b[1;32m     68\u001b[0m         \u001b[0mself\u001b[0m\u001b[0;34m.\u001b[0m\u001b[0mdata\u001b[0m \u001b[0;34m=\u001b[0m \u001b[0mconvert_to_data\u001b[0m\u001b[0;34m(\u001b[0m\u001b[0mdata\u001b[0m\u001b[0;34m,\u001b[0m \u001b[0mkeep_index\u001b[0m\u001b[0;34m=\u001b[0m\u001b[0mself\u001b[0m\u001b[0;34m.\u001b[0m\u001b[0mkeep_index\u001b[0m\u001b[0;34m)\u001b[0m\u001b[0;34m\u001b[0m\u001b[0;34m\u001b[0m\u001b[0m\n\u001b[0;32m---> 69\u001b[0;31m         \u001b[0mmodel_null\u001b[0m \u001b[0;34m=\u001b[0m \u001b[0mmatch_model_to_data\u001b[0m\u001b[0;34m(\u001b[0m\u001b[0mself\u001b[0m\u001b[0;34m.\u001b[0m\u001b[0mmodel\u001b[0m\u001b[0;34m,\u001b[0m \u001b[0mself\u001b[0m\u001b[0;34m.\u001b[0m\u001b[0mdata\u001b[0m\u001b[0;34m)\u001b[0m\u001b[0;34m\u001b[0m\u001b[0;34m\u001b[0m\u001b[0m\n\u001b[0m\u001b[1;32m     70\u001b[0m \u001b[0;34m\u001b[0m\u001b[0m\n\u001b[1;32m     71\u001b[0m         \u001b[0;31m# enforce our current input type limitations\u001b[0m\u001b[0;34m\u001b[0m\u001b[0;34m\u001b[0m\u001b[0;34m\u001b[0m\u001b[0m\n",
            "\u001b[0;32m/usr/local/lib/python3.7/dist-packages/shap/utils/_legacy.py\u001b[0m in \u001b[0;36mmatch_model_to_data\u001b[0;34m(model, data)\u001b[0m\n\u001b[1;32m    110\u001b[0m             \u001b[0mout_val\u001b[0m \u001b[0;34m=\u001b[0m \u001b[0mmodel\u001b[0m\u001b[0;34m.\u001b[0m\u001b[0mf\u001b[0m\u001b[0;34m(\u001b[0m\u001b[0mdata\u001b[0m\u001b[0;34m.\u001b[0m\u001b[0mconvert_to_df\u001b[0m\u001b[0;34m(\u001b[0m\u001b[0;34m)\u001b[0m\u001b[0;34m)\u001b[0m\u001b[0;34m\u001b[0m\u001b[0;34m\u001b[0m\u001b[0m\n\u001b[1;32m    111\u001b[0m         \u001b[0;32melse\u001b[0m\u001b[0;34m:\u001b[0m\u001b[0;34m\u001b[0m\u001b[0;34m\u001b[0m\u001b[0m\n\u001b[0;32m--> 112\u001b[0;31m             \u001b[0mout_val\u001b[0m \u001b[0;34m=\u001b[0m \u001b[0mmodel\u001b[0m\u001b[0;34m.\u001b[0m\u001b[0mf\u001b[0m\u001b[0;34m(\u001b[0m\u001b[0mdata\u001b[0m\u001b[0;34m.\u001b[0m\u001b[0mdata\u001b[0m\u001b[0;34m)\u001b[0m\u001b[0;34m\u001b[0m\u001b[0;34m\u001b[0m\u001b[0m\n\u001b[0m\u001b[1;32m    113\u001b[0m     \u001b[0;32mexcept\u001b[0m\u001b[0;34m:\u001b[0m\u001b[0;34m\u001b[0m\u001b[0;34m\u001b[0m\u001b[0m\n\u001b[1;32m    114\u001b[0m         \u001b[0mprint\u001b[0m\u001b[0;34m(\u001b[0m\u001b[0;34m\"Provided model function fails when applied to the provided data set.\"\u001b[0m\u001b[0;34m)\u001b[0m\u001b[0;34m\u001b[0m\u001b[0;34m\u001b[0m\u001b[0m\n",
            "\u001b[0;32m/usr/local/lib/python3.7/dist-packages/sklearn/utils/metaestimators.py\u001b[0m in \u001b[0;36m<lambda>\u001b[0;34m(*args, **kwargs)\u001b[0m\n\u001b[1;32m    117\u001b[0m \u001b[0;34m\u001b[0m\u001b[0m\n\u001b[1;32m    118\u001b[0m         \u001b[0;31m# lambda, but not partial, allows help() to work with update_wrapper\u001b[0m\u001b[0;34m\u001b[0m\u001b[0;34m\u001b[0m\u001b[0;34m\u001b[0m\u001b[0m\n\u001b[0;32m--> 119\u001b[0;31m         \u001b[0mout\u001b[0m \u001b[0;34m=\u001b[0m \u001b[0;32mlambda\u001b[0m \u001b[0;34m*\u001b[0m\u001b[0margs\u001b[0m\u001b[0;34m,\u001b[0m \u001b[0;34m**\u001b[0m\u001b[0mkwargs\u001b[0m\u001b[0;34m:\u001b[0m \u001b[0mself\u001b[0m\u001b[0;34m.\u001b[0m\u001b[0mfn\u001b[0m\u001b[0;34m(\u001b[0m\u001b[0mobj\u001b[0m\u001b[0;34m,\u001b[0m \u001b[0;34m*\u001b[0m\u001b[0margs\u001b[0m\u001b[0;34m,\u001b[0m \u001b[0;34m**\u001b[0m\u001b[0mkwargs\u001b[0m\u001b[0;34m)\u001b[0m\u001b[0;34m\u001b[0m\u001b[0;34m\u001b[0m\u001b[0m\n\u001b[0m\u001b[1;32m    120\u001b[0m         \u001b[0;31m# update the docstring of the returned function\u001b[0m\u001b[0;34m\u001b[0m\u001b[0;34m\u001b[0m\u001b[0;34m\u001b[0m\u001b[0m\n\u001b[1;32m    121\u001b[0m         \u001b[0mupdate_wrapper\u001b[0m\u001b[0;34m(\u001b[0m\u001b[0mout\u001b[0m\u001b[0;34m,\u001b[0m \u001b[0mself\u001b[0m\u001b[0;34m.\u001b[0m\u001b[0mfn\u001b[0m\u001b[0;34m)\u001b[0m\u001b[0;34m\u001b[0m\u001b[0;34m\u001b[0m\u001b[0m\n",
            "\u001b[0;32m/usr/local/lib/python3.7/dist-packages/sklearn/pipeline.py\u001b[0m in \u001b[0;36mpredict\u001b[0;34m(self, X, **predict_params)\u001b[0m\n\u001b[1;32m    405\u001b[0m         \u001b[0mXt\u001b[0m \u001b[0;34m=\u001b[0m \u001b[0mX\u001b[0m\u001b[0;34m\u001b[0m\u001b[0;34m\u001b[0m\u001b[0m\n\u001b[1;32m    406\u001b[0m         \u001b[0;32mfor\u001b[0m \u001b[0m_\u001b[0m\u001b[0;34m,\u001b[0m \u001b[0mname\u001b[0m\u001b[0;34m,\u001b[0m \u001b[0mtransform\u001b[0m \u001b[0;32min\u001b[0m \u001b[0mself\u001b[0m\u001b[0;34m.\u001b[0m\u001b[0m_iter\u001b[0m\u001b[0;34m(\u001b[0m\u001b[0mwith_final\u001b[0m\u001b[0;34m=\u001b[0m\u001b[0;32mFalse\u001b[0m\u001b[0;34m)\u001b[0m\u001b[0;34m:\u001b[0m\u001b[0;34m\u001b[0m\u001b[0;34m\u001b[0m\u001b[0m\n\u001b[0;32m--> 407\u001b[0;31m             \u001b[0mXt\u001b[0m \u001b[0;34m=\u001b[0m \u001b[0mtransform\u001b[0m\u001b[0;34m.\u001b[0m\u001b[0mtransform\u001b[0m\u001b[0;34m(\u001b[0m\u001b[0mXt\u001b[0m\u001b[0;34m)\u001b[0m\u001b[0;34m\u001b[0m\u001b[0;34m\u001b[0m\u001b[0m\n\u001b[0m\u001b[1;32m    408\u001b[0m         \u001b[0;32mreturn\u001b[0m \u001b[0mself\u001b[0m\u001b[0;34m.\u001b[0m\u001b[0msteps\u001b[0m\u001b[0;34m[\u001b[0m\u001b[0;34m-\u001b[0m\u001b[0;36m1\u001b[0m\u001b[0;34m]\u001b[0m\u001b[0;34m[\u001b[0m\u001b[0;34m-\u001b[0m\u001b[0;36m1\u001b[0m\u001b[0;34m]\u001b[0m\u001b[0;34m.\u001b[0m\u001b[0mpredict\u001b[0m\u001b[0;34m(\u001b[0m\u001b[0mXt\u001b[0m\u001b[0;34m,\u001b[0m \u001b[0;34m**\u001b[0m\u001b[0mpredict_params\u001b[0m\u001b[0;34m)\u001b[0m\u001b[0;34m\u001b[0m\u001b[0;34m\u001b[0m\u001b[0m\n\u001b[1;32m    409\u001b[0m \u001b[0;34m\u001b[0m\u001b[0m\n",
            "\u001b[0;32m/usr/local/lib/python3.7/dist-packages/sklearn/compose/_column_transformer.py\u001b[0m in \u001b[0;36mtransform\u001b[0;34m(self, X)\u001b[0m\n\u001b[1;32m    602\u001b[0m         \u001b[0;31m# TODO: also call _check_n_features(reset=False) in 0.24\u001b[0m\u001b[0;34m\u001b[0m\u001b[0;34m\u001b[0m\u001b[0;34m\u001b[0m\u001b[0m\n\u001b[1;32m    603\u001b[0m         \u001b[0mself\u001b[0m\u001b[0;34m.\u001b[0m\u001b[0m_validate_features\u001b[0m\u001b[0;34m(\u001b[0m\u001b[0mX\u001b[0m\u001b[0;34m.\u001b[0m\u001b[0mshape\u001b[0m\u001b[0;34m[\u001b[0m\u001b[0;36m1\u001b[0m\u001b[0;34m]\u001b[0m\u001b[0;34m,\u001b[0m \u001b[0mX_feature_names\u001b[0m\u001b[0;34m)\u001b[0m\u001b[0;34m\u001b[0m\u001b[0;34m\u001b[0m\u001b[0m\n\u001b[0;32m--> 604\u001b[0;31m         \u001b[0mXs\u001b[0m \u001b[0;34m=\u001b[0m \u001b[0mself\u001b[0m\u001b[0;34m.\u001b[0m\u001b[0m_fit_transform\u001b[0m\u001b[0;34m(\u001b[0m\u001b[0mX\u001b[0m\u001b[0;34m,\u001b[0m \u001b[0;32mNone\u001b[0m\u001b[0;34m,\u001b[0m \u001b[0m_transform_one\u001b[0m\u001b[0;34m,\u001b[0m \u001b[0mfitted\u001b[0m\u001b[0;34m=\u001b[0m\u001b[0;32mTrue\u001b[0m\u001b[0;34m)\u001b[0m\u001b[0;34m\u001b[0m\u001b[0;34m\u001b[0m\u001b[0m\n\u001b[0m\u001b[1;32m    605\u001b[0m         \u001b[0mself\u001b[0m\u001b[0;34m.\u001b[0m\u001b[0m_validate_output\u001b[0m\u001b[0;34m(\u001b[0m\u001b[0mXs\u001b[0m\u001b[0;34m)\u001b[0m\u001b[0;34m\u001b[0m\u001b[0;34m\u001b[0m\u001b[0m\n\u001b[1;32m    606\u001b[0m \u001b[0;34m\u001b[0m\u001b[0m\n",
            "\u001b[0;32m/usr/local/lib/python3.7/dist-packages/sklearn/compose/_column_transformer.py\u001b[0m in \u001b[0;36m_fit_transform\u001b[0;34m(self, X, y, func, fitted)\u001b[0m\n\u001b[1;32m    465\u001b[0m                     message=self._log_message(name, idx, len(transformers)))\n\u001b[1;32m    466\u001b[0m                 for idx, (name, trans, column, weight) in enumerate(\n\u001b[0;32m--> 467\u001b[0;31m                         self._iter(fitted=fitted, replace_strings=True), 1))\n\u001b[0m\u001b[1;32m    468\u001b[0m         \u001b[0;32mexcept\u001b[0m \u001b[0mValueError\u001b[0m \u001b[0;32mas\u001b[0m \u001b[0me\u001b[0m\u001b[0;34m:\u001b[0m\u001b[0;34m\u001b[0m\u001b[0;34m\u001b[0m\u001b[0m\n\u001b[1;32m    469\u001b[0m             \u001b[0;32mif\u001b[0m \u001b[0;34m\"Expected 2D array, got 1D array instead\"\u001b[0m \u001b[0;32min\u001b[0m \u001b[0mstr\u001b[0m\u001b[0;34m(\u001b[0m\u001b[0me\u001b[0m\u001b[0;34m)\u001b[0m\u001b[0;34m:\u001b[0m\u001b[0;34m\u001b[0m\u001b[0;34m\u001b[0m\u001b[0m\n",
            "\u001b[0;32m/usr/local/lib/python3.7/dist-packages/joblib/parallel.py\u001b[0m in \u001b[0;36m__call__\u001b[0;34m(self, iterable)\u001b[0m\n\u001b[1;32m   1039\u001b[0m             \u001b[0;31m# remaining jobs.\u001b[0m\u001b[0;34m\u001b[0m\u001b[0;34m\u001b[0m\u001b[0;34m\u001b[0m\u001b[0m\n\u001b[1;32m   1040\u001b[0m             \u001b[0mself\u001b[0m\u001b[0;34m.\u001b[0m\u001b[0m_iterating\u001b[0m \u001b[0;34m=\u001b[0m \u001b[0;32mFalse\u001b[0m\u001b[0;34m\u001b[0m\u001b[0;34m\u001b[0m\u001b[0m\n\u001b[0;32m-> 1041\u001b[0;31m             \u001b[0;32mif\u001b[0m \u001b[0mself\u001b[0m\u001b[0;34m.\u001b[0m\u001b[0mdispatch_one_batch\u001b[0m\u001b[0;34m(\u001b[0m\u001b[0miterator\u001b[0m\u001b[0;34m)\u001b[0m\u001b[0;34m:\u001b[0m\u001b[0;34m\u001b[0m\u001b[0;34m\u001b[0m\u001b[0m\n\u001b[0m\u001b[1;32m   1042\u001b[0m                 \u001b[0mself\u001b[0m\u001b[0;34m.\u001b[0m\u001b[0m_iterating\u001b[0m \u001b[0;34m=\u001b[0m \u001b[0mself\u001b[0m\u001b[0;34m.\u001b[0m\u001b[0m_original_iterator\u001b[0m \u001b[0;32mis\u001b[0m \u001b[0;32mnot\u001b[0m \u001b[0;32mNone\u001b[0m\u001b[0;34m\u001b[0m\u001b[0;34m\u001b[0m\u001b[0m\n\u001b[1;32m   1043\u001b[0m \u001b[0;34m\u001b[0m\u001b[0m\n",
            "\u001b[0;32m/usr/local/lib/python3.7/dist-packages/joblib/parallel.py\u001b[0m in \u001b[0;36mdispatch_one_batch\u001b[0;34m(self, iterator)\u001b[0m\n\u001b[1;32m    829\u001b[0m                 \u001b[0mbig_batch_size\u001b[0m \u001b[0;34m=\u001b[0m \u001b[0mbatch_size\u001b[0m \u001b[0;34m*\u001b[0m \u001b[0mn_jobs\u001b[0m\u001b[0;34m\u001b[0m\u001b[0;34m\u001b[0m\u001b[0m\n\u001b[1;32m    830\u001b[0m \u001b[0;34m\u001b[0m\u001b[0m\n\u001b[0;32m--> 831\u001b[0;31m                 \u001b[0mislice\u001b[0m \u001b[0;34m=\u001b[0m \u001b[0mlist\u001b[0m\u001b[0;34m(\u001b[0m\u001b[0mitertools\u001b[0m\u001b[0;34m.\u001b[0m\u001b[0mislice\u001b[0m\u001b[0;34m(\u001b[0m\u001b[0miterator\u001b[0m\u001b[0;34m,\u001b[0m \u001b[0mbig_batch_size\u001b[0m\u001b[0;34m)\u001b[0m\u001b[0;34m)\u001b[0m\u001b[0;34m\u001b[0m\u001b[0;34m\u001b[0m\u001b[0m\n\u001b[0m\u001b[1;32m    832\u001b[0m                 \u001b[0;32mif\u001b[0m \u001b[0mlen\u001b[0m\u001b[0;34m(\u001b[0m\u001b[0mislice\u001b[0m\u001b[0;34m)\u001b[0m \u001b[0;34m==\u001b[0m \u001b[0;36m0\u001b[0m\u001b[0;34m:\u001b[0m\u001b[0;34m\u001b[0m\u001b[0;34m\u001b[0m\u001b[0m\n\u001b[1;32m    833\u001b[0m                     \u001b[0;32mreturn\u001b[0m \u001b[0;32mFalse\u001b[0m\u001b[0;34m\u001b[0m\u001b[0;34m\u001b[0m\u001b[0m\n",
            "\u001b[0;32m/usr/local/lib/python3.7/dist-packages/sklearn/compose/_column_transformer.py\u001b[0m in \u001b[0;36m<genexpr>\u001b[0;34m(.0)\u001b[0m\n\u001b[1;32m    464\u001b[0m                     \u001b[0mmessage_clsname\u001b[0m\u001b[0;34m=\u001b[0m\u001b[0;34m'ColumnTransformer'\u001b[0m\u001b[0;34m,\u001b[0m\u001b[0;34m\u001b[0m\u001b[0;34m\u001b[0m\u001b[0m\n\u001b[1;32m    465\u001b[0m                     message=self._log_message(name, idx, len(transformers)))\n\u001b[0;32m--> 466\u001b[0;31m                 for idx, (name, trans, column, weight) in enumerate(\n\u001b[0m\u001b[1;32m    467\u001b[0m                         self._iter(fitted=fitted, replace_strings=True), 1))\n\u001b[1;32m    468\u001b[0m         \u001b[0;32mexcept\u001b[0m \u001b[0mValueError\u001b[0m \u001b[0;32mas\u001b[0m \u001b[0me\u001b[0m\u001b[0;34m:\u001b[0m\u001b[0;34m\u001b[0m\u001b[0;34m\u001b[0m\u001b[0m\n",
            "\u001b[0;32m/usr/local/lib/python3.7/dist-packages/sklearn/utils/__init__.py\u001b[0m in \u001b[0;36m_safe_indexing\u001b[0;34m(X, indices, axis)\u001b[0m\n\u001b[1;32m    386\u001b[0m     \u001b[0;32mif\u001b[0m \u001b[0maxis\u001b[0m \u001b[0;34m==\u001b[0m \u001b[0;36m1\u001b[0m \u001b[0;32mand\u001b[0m \u001b[0mindices_dtype\u001b[0m \u001b[0;34m==\u001b[0m \u001b[0;34m'str'\u001b[0m \u001b[0;32mand\u001b[0m \u001b[0;32mnot\u001b[0m \u001b[0mhasattr\u001b[0m\u001b[0;34m(\u001b[0m\u001b[0mX\u001b[0m\u001b[0;34m,\u001b[0m \u001b[0;34m'loc'\u001b[0m\u001b[0;34m)\u001b[0m\u001b[0;34m:\u001b[0m\u001b[0;34m\u001b[0m\u001b[0;34m\u001b[0m\u001b[0m\n\u001b[1;32m    387\u001b[0m         raise ValueError(\n\u001b[0;32m--> 388\u001b[0;31m             \u001b[0;34m\"Specifying the columns using strings is only supported for \"\u001b[0m\u001b[0;34m\u001b[0m\u001b[0;34m\u001b[0m\u001b[0m\n\u001b[0m\u001b[1;32m    389\u001b[0m             \u001b[0;34m\"pandas DataFrames\"\u001b[0m\u001b[0;34m\u001b[0m\u001b[0;34m\u001b[0m\u001b[0m\n\u001b[1;32m    390\u001b[0m         )\n",
            "\u001b[0;31mValueError\u001b[0m: Specifying the columns using strings is only supported for pandas DataFrames"
          ]
        }
      ]
    }
  ]
}